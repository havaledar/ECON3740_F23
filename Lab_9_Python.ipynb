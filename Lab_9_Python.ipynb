{
  "nbformat": 4,
  "nbformat_minor": 0,
  "metadata": {
    "colab": {
      "provenance": [],
      "include_colab_link": true
    },
    "kernelspec": {
      "name": "python3",
      "display_name": "Python 3"
    },
    "language_info": {
      "name": "python"
    }
  },
  "cells": [
    {
      "cell_type": "markdown",
      "metadata": {
        "id": "view-in-github",
        "colab_type": "text"
      },
      "source": [
        "<a href=\"https://colab.research.google.com/github/havaledar/ECON3740/blob/main/Lab_9_Python.ipynb\" target=\"_parent\"><img src=\"https://colab.research.google.com/assets/colab-badge.svg\" alt=\"Open In Colab\"/></a>"
      ]
    },
    {
      "cell_type": "markdown",
      "source": [
        "# Libraries"
      ],
      "metadata": {
        "id": "9VCncoiSLfob"
      }
    },
    {
      "cell_type": "code",
      "source": [
        "!pip install stargazer"
      ],
      "metadata": {
        "id": "ZbKg-uZdM5_1",
        "outputId": "270e74f2-8421-4a95-e211-5b006db016b4",
        "colab": {
          "base_uri": "https://localhost:8080/"
        }
      },
      "execution_count": 1,
      "outputs": [
        {
          "output_type": "stream",
          "name": "stdout",
          "text": [
            "Requirement already satisfied: stargazer in /usr/local/lib/python3.10/dist-packages (0.0.6)\n"
          ]
        }
      ]
    },
    {
      "cell_type": "code",
      "execution_count": 2,
      "metadata": {
        "id": "_LIiA4iZLW0L"
      },
      "outputs": [],
      "source": [
        "import pandas as pd\n",
        "import numpy as np\n",
        "import statsmodels.formula.api as smf\n",
        "from stargazer.stargazer import Stargazer"
      ]
    },
    {
      "cell_type": "markdown",
      "source": [
        "# Reading Data"
      ],
      "metadata": {
        "id": "s1NdSv6DLic3"
      }
    },
    {
      "cell_type": "code",
      "source": [
        "dfl = pd.read_stata('https://raw.githubusercontent.com/havaledar/ECON3740/main/LFS-71M0001-E-2023-August_F1.dta')"
      ],
      "metadata": {
        "id": "GdziybgMhbHb"
      },
      "execution_count": 3,
      "outputs": []
    },
    {
      "cell_type": "code",
      "source": [
        "# dfv = pd.read_stata('https://raw.githubusercontent.com/havaledar/ECON3740/main/LFS-71M0001-E-2023-August_F1.dta', convert_categoricals=False)"
      ],
      "metadata": {
        "id": "L7HabiASL8LZ"
      },
      "execution_count": 4,
      "outputs": []
    },
    {
      "cell_type": "markdown",
      "source": [
        "# 3.a)"
      ],
      "metadata": {
        "id": "iPb-Ao4gbnxa"
      }
    },
    {
      "cell_type": "code",
      "source": [
        "dfl['LFSSTAT'].unique()"
      ],
      "metadata": {
        "colab": {
          "base_uri": "https://localhost:8080/"
        },
        "id": "rogr2zATqWV_",
        "outputId": "ce43d841-7f21-49ba-848c-403b3b53d3ae"
      },
      "execution_count": 5,
      "outputs": [
        {
          "output_type": "execute_result",
          "data": {
            "text/plain": [
              "['Unemployed', 'Employed, at work', 'Not in labour force', 'Employed, absent from work']\n",
              "Categories (4, object): ['Employed, at work' < 'Employed, absent from work' < 'Unemployed' <\n",
              "                         'Not in labour force']"
            ]
          },
          "metadata": {},
          "execution_count": 5
        }
      ]
    },
    {
      "cell_type": "code",
      "source": [
        "dfl['partic'] = (dfl['LFSSTAT'] != 'Not in labour force').astype(int)"
      ],
      "metadata": {
        "id": "GxzfI5l-qphz"
      },
      "execution_count": 6,
      "outputs": []
    },
    {
      "cell_type": "code",
      "source": [
        "dfl['LFSSTAT']"
      ],
      "metadata": {
        "colab": {
          "base_uri": "https://localhost:8080/"
        },
        "id": "zMs5MXj1q6c1",
        "outputId": "f876b61f-2dd5-4935-aed1-8109d5b3b9eb"
      },
      "execution_count": 7,
      "outputs": [
        {
          "output_type": "execute_result",
          "data": {
            "text/plain": [
              "0                  Unemployed\n",
              "1           Employed, at work\n",
              "2           Employed, at work\n",
              "3         Not in labour force\n",
              "4         Not in labour force\n",
              "                 ...         \n",
              "103398      Employed, at work\n",
              "103399             Unemployed\n",
              "103400      Employed, at work\n",
              "103401      Employed, at work\n",
              "103402      Employed, at work\n",
              "Name: LFSSTAT, Length: 103403, dtype: category\n",
              "Categories (4, object): ['Employed, at work' < 'Employed, absent from work' < 'Unemployed' <\n",
              "                         'Not in labour force']"
            ]
          },
          "metadata": {},
          "execution_count": 7
        }
      ]
    },
    {
      "cell_type": "code",
      "source": [
        "dfl['partic'].value_counts(normalize=True)"
      ],
      "metadata": {
        "colab": {
          "base_uri": "https://localhost:8080/"
        },
        "id": "HyMtsbCLeqVw",
        "outputId": "ed2f2e3e-28b1-4888-faa2-b86ce3b9eafb"
      },
      "execution_count": 8,
      "outputs": [
        {
          "output_type": "execute_result",
          "data": {
            "text/plain": [
              "1    0.637341\n",
              "0    0.362659\n",
              "Name: partic, dtype: float64"
            ]
          },
          "metadata": {},
          "execution_count": 8
        }
      ]
    },
    {
      "cell_type": "code",
      "source": [
        "pd.crosstab(dfl['partic'], dfl['SEX'], normalize=1)"
      ],
      "metadata": {
        "colab": {
          "base_uri": "https://localhost:8080/",
          "height": 143
        },
        "id": "HiIY41HtfkJi",
        "outputId": "e6660ce9-5160-44da-bc99-bfcffaf55fa3"
      },
      "execution_count": 9,
      "outputs": [
        {
          "output_type": "execute_result",
          "data": {
            "text/plain": [
              "SEX         Male    Female\n",
              "partic                    \n",
              "0       0.318979  0.403955\n",
              "1       0.681021  0.596045"
            ],
            "text/html": [
              "\n",
              "  <div id=\"df-63d26983-c7fc-42c2-8227-41fd9832d0c4\" class=\"colab-df-container\">\n",
              "    <div>\n",
              "<style scoped>\n",
              "    .dataframe tbody tr th:only-of-type {\n",
              "        vertical-align: middle;\n",
              "    }\n",
              "\n",
              "    .dataframe tbody tr th {\n",
              "        vertical-align: top;\n",
              "    }\n",
              "\n",
              "    .dataframe thead th {\n",
              "        text-align: right;\n",
              "    }\n",
              "</style>\n",
              "<table border=\"1\" class=\"dataframe\">\n",
              "  <thead>\n",
              "    <tr style=\"text-align: right;\">\n",
              "      <th>SEX</th>\n",
              "      <th>Male</th>\n",
              "      <th>Female</th>\n",
              "    </tr>\n",
              "    <tr>\n",
              "      <th>partic</th>\n",
              "      <th></th>\n",
              "      <th></th>\n",
              "    </tr>\n",
              "  </thead>\n",
              "  <tbody>\n",
              "    <tr>\n",
              "      <th>0</th>\n",
              "      <td>0.318979</td>\n",
              "      <td>0.403955</td>\n",
              "    </tr>\n",
              "    <tr>\n",
              "      <th>1</th>\n",
              "      <td>0.681021</td>\n",
              "      <td>0.596045</td>\n",
              "    </tr>\n",
              "  </tbody>\n",
              "</table>\n",
              "</div>\n",
              "    <div class=\"colab-df-buttons\">\n",
              "\n",
              "  <div class=\"colab-df-container\">\n",
              "    <button class=\"colab-df-convert\" onclick=\"convertToInteractive('df-63d26983-c7fc-42c2-8227-41fd9832d0c4')\"\n",
              "            title=\"Convert this dataframe to an interactive table.\"\n",
              "            style=\"display:none;\">\n",
              "\n",
              "  <svg xmlns=\"http://www.w3.org/2000/svg\" height=\"24px\" viewBox=\"0 -960 960 960\">\n",
              "    <path d=\"M120-120v-720h720v720H120Zm60-500h600v-160H180v160Zm220 220h160v-160H400v160Zm0 220h160v-160H400v160ZM180-400h160v-160H180v160Zm440 0h160v-160H620v160ZM180-180h160v-160H180v160Zm440 0h160v-160H620v160Z\"/>\n",
              "  </svg>\n",
              "    </button>\n",
              "\n",
              "  <style>\n",
              "    .colab-df-container {\n",
              "      display:flex;\n",
              "      gap: 12px;\n",
              "    }\n",
              "\n",
              "    .colab-df-convert {\n",
              "      background-color: #E8F0FE;\n",
              "      border: none;\n",
              "      border-radius: 50%;\n",
              "      cursor: pointer;\n",
              "      display: none;\n",
              "      fill: #1967D2;\n",
              "      height: 32px;\n",
              "      padding: 0 0 0 0;\n",
              "      width: 32px;\n",
              "    }\n",
              "\n",
              "    .colab-df-convert:hover {\n",
              "      background-color: #E2EBFA;\n",
              "      box-shadow: 0px 1px 2px rgba(60, 64, 67, 0.3), 0px 1px 3px 1px rgba(60, 64, 67, 0.15);\n",
              "      fill: #174EA6;\n",
              "    }\n",
              "\n",
              "    .colab-df-buttons div {\n",
              "      margin-bottom: 4px;\n",
              "    }\n",
              "\n",
              "    [theme=dark] .colab-df-convert {\n",
              "      background-color: #3B4455;\n",
              "      fill: #D2E3FC;\n",
              "    }\n",
              "\n",
              "    [theme=dark] .colab-df-convert:hover {\n",
              "      background-color: #434B5C;\n",
              "      box-shadow: 0px 1px 3px 1px rgba(0, 0, 0, 0.15);\n",
              "      filter: drop-shadow(0px 1px 2px rgba(0, 0, 0, 0.3));\n",
              "      fill: #FFFFFF;\n",
              "    }\n",
              "  </style>\n",
              "\n",
              "    <script>\n",
              "      const buttonEl =\n",
              "        document.querySelector('#df-63d26983-c7fc-42c2-8227-41fd9832d0c4 button.colab-df-convert');\n",
              "      buttonEl.style.display =\n",
              "        google.colab.kernel.accessAllowed ? 'block' : 'none';\n",
              "\n",
              "      async function convertToInteractive(key) {\n",
              "        const element = document.querySelector('#df-63d26983-c7fc-42c2-8227-41fd9832d0c4');\n",
              "        const dataTable =\n",
              "          await google.colab.kernel.invokeFunction('convertToInteractive',\n",
              "                                                    [key], {});\n",
              "        if (!dataTable) return;\n",
              "\n",
              "        const docLinkHtml = 'Like what you see? Visit the ' +\n",
              "          '<a target=\"_blank\" href=https://colab.research.google.com/notebooks/data_table.ipynb>data table notebook</a>'\n",
              "          + ' to learn more about interactive tables.';\n",
              "        element.innerHTML = '';\n",
              "        dataTable['output_type'] = 'display_data';\n",
              "        await google.colab.output.renderOutput(dataTable, element);\n",
              "        const docLink = document.createElement('div');\n",
              "        docLink.innerHTML = docLinkHtml;\n",
              "        element.appendChild(docLink);\n",
              "      }\n",
              "    </script>\n",
              "  </div>\n",
              "\n",
              "\n",
              "<div id=\"df-813391d8-4ce4-4c05-a5ae-16da9a0a7b8d\">\n",
              "  <button class=\"colab-df-quickchart\" onclick=\"quickchart('df-813391d8-4ce4-4c05-a5ae-16da9a0a7b8d')\"\n",
              "            title=\"Suggest charts\"\n",
              "            style=\"display:none;\">\n",
              "\n",
              "<svg xmlns=\"http://www.w3.org/2000/svg\" height=\"24px\"viewBox=\"0 0 24 24\"\n",
              "     width=\"24px\">\n",
              "    <g>\n",
              "        <path d=\"M19 3H5c-1.1 0-2 .9-2 2v14c0 1.1.9 2 2 2h14c1.1 0 2-.9 2-2V5c0-1.1-.9-2-2-2zM9 17H7v-7h2v7zm4 0h-2V7h2v10zm4 0h-2v-4h2v4z\"/>\n",
              "    </g>\n",
              "</svg>\n",
              "  </button>\n",
              "\n",
              "<style>\n",
              "  .colab-df-quickchart {\n",
              "      --bg-color: #E8F0FE;\n",
              "      --fill-color: #1967D2;\n",
              "      --hover-bg-color: #E2EBFA;\n",
              "      --hover-fill-color: #174EA6;\n",
              "      --disabled-fill-color: #AAA;\n",
              "      --disabled-bg-color: #DDD;\n",
              "  }\n",
              "\n",
              "  [theme=dark] .colab-df-quickchart {\n",
              "      --bg-color: #3B4455;\n",
              "      --fill-color: #D2E3FC;\n",
              "      --hover-bg-color: #434B5C;\n",
              "      --hover-fill-color: #FFFFFF;\n",
              "      --disabled-bg-color: #3B4455;\n",
              "      --disabled-fill-color: #666;\n",
              "  }\n",
              "\n",
              "  .colab-df-quickchart {\n",
              "    background-color: var(--bg-color);\n",
              "    border: none;\n",
              "    border-radius: 50%;\n",
              "    cursor: pointer;\n",
              "    display: none;\n",
              "    fill: var(--fill-color);\n",
              "    height: 32px;\n",
              "    padding: 0;\n",
              "    width: 32px;\n",
              "  }\n",
              "\n",
              "  .colab-df-quickchart:hover {\n",
              "    background-color: var(--hover-bg-color);\n",
              "    box-shadow: 0 1px 2px rgba(60, 64, 67, 0.3), 0 1px 3px 1px rgba(60, 64, 67, 0.15);\n",
              "    fill: var(--button-hover-fill-color);\n",
              "  }\n",
              "\n",
              "  .colab-df-quickchart-complete:disabled,\n",
              "  .colab-df-quickchart-complete:disabled:hover {\n",
              "    background-color: var(--disabled-bg-color);\n",
              "    fill: var(--disabled-fill-color);\n",
              "    box-shadow: none;\n",
              "  }\n",
              "\n",
              "  .colab-df-spinner {\n",
              "    border: 2px solid var(--fill-color);\n",
              "    border-color: transparent;\n",
              "    border-bottom-color: var(--fill-color);\n",
              "    animation:\n",
              "      spin 1s steps(1) infinite;\n",
              "  }\n",
              "\n",
              "  @keyframes spin {\n",
              "    0% {\n",
              "      border-color: transparent;\n",
              "      border-bottom-color: var(--fill-color);\n",
              "      border-left-color: var(--fill-color);\n",
              "    }\n",
              "    20% {\n",
              "      border-color: transparent;\n",
              "      border-left-color: var(--fill-color);\n",
              "      border-top-color: var(--fill-color);\n",
              "    }\n",
              "    30% {\n",
              "      border-color: transparent;\n",
              "      border-left-color: var(--fill-color);\n",
              "      border-top-color: var(--fill-color);\n",
              "      border-right-color: var(--fill-color);\n",
              "    }\n",
              "    40% {\n",
              "      border-color: transparent;\n",
              "      border-right-color: var(--fill-color);\n",
              "      border-top-color: var(--fill-color);\n",
              "    }\n",
              "    60% {\n",
              "      border-color: transparent;\n",
              "      border-right-color: var(--fill-color);\n",
              "    }\n",
              "    80% {\n",
              "      border-color: transparent;\n",
              "      border-right-color: var(--fill-color);\n",
              "      border-bottom-color: var(--fill-color);\n",
              "    }\n",
              "    90% {\n",
              "      border-color: transparent;\n",
              "      border-bottom-color: var(--fill-color);\n",
              "    }\n",
              "  }\n",
              "</style>\n",
              "\n",
              "  <script>\n",
              "    async function quickchart(key) {\n",
              "      const quickchartButtonEl =\n",
              "        document.querySelector('#' + key + ' button');\n",
              "      quickchartButtonEl.disabled = true;  // To prevent multiple clicks.\n",
              "      quickchartButtonEl.classList.add('colab-df-spinner');\n",
              "      try {\n",
              "        const charts = await google.colab.kernel.invokeFunction(\n",
              "            'suggestCharts', [key], {});\n",
              "      } catch (error) {\n",
              "        console.error('Error during call to suggestCharts:', error);\n",
              "      }\n",
              "      quickchartButtonEl.classList.remove('colab-df-spinner');\n",
              "      quickchartButtonEl.classList.add('colab-df-quickchart-complete');\n",
              "    }\n",
              "    (() => {\n",
              "      let quickchartButtonEl =\n",
              "        document.querySelector('#df-813391d8-4ce4-4c05-a5ae-16da9a0a7b8d button');\n",
              "      quickchartButtonEl.style.display =\n",
              "        google.colab.kernel.accessAllowed ? 'block' : 'none';\n",
              "    })();\n",
              "  </script>\n",
              "</div>\n",
              "    </div>\n",
              "  </div>\n"
            ]
          },
          "metadata": {},
          "execution_count": 9
        }
      ]
    },
    {
      "cell_type": "code",
      "source": [
        "# Filtering based on SEX == 1\n",
        "dm = dfl[dfl['SEX'] == \"Male\"]\n",
        "\n",
        "# Filtering based on SEX == 2\n",
        "df = dfl[dfl['SEX'] == \"Female\"]"
      ],
      "metadata": {
        "id": "dgWnXUwXPOpk"
      },
      "execution_count": 10,
      "outputs": []
    },
    {
      "cell_type": "code",
      "source": [
        "dm['partic'].describe()"
      ],
      "metadata": {
        "colab": {
          "base_uri": "https://localhost:8080/"
        },
        "id": "xtcAmLZmQhht",
        "outputId": "6692304d-f572-49c0-f298-9ff7a7fdf3d1"
      },
      "execution_count": 11,
      "outputs": [
        {
          "output_type": "execute_result",
          "data": {
            "text/plain": [
              "count    50251.000000\n",
              "mean         0.681021\n",
              "std          0.466085\n",
              "min          0.000000\n",
              "25%          0.000000\n",
              "50%          1.000000\n",
              "75%          1.000000\n",
              "max          1.000000\n",
              "Name: partic, dtype: float64"
            ]
          },
          "metadata": {},
          "execution_count": 11
        }
      ]
    },
    {
      "cell_type": "code",
      "source": [
        "df['partic'].describe()"
      ],
      "metadata": {
        "colab": {
          "base_uri": "https://localhost:8080/"
        },
        "id": "kx03Q3WZPqMm",
        "outputId": "3981ef24-21af-49d2-b43b-d59632f69183"
      },
      "execution_count": 12,
      "outputs": [
        {
          "output_type": "execute_result",
          "data": {
            "text/plain": [
              "count    53152.000000\n",
              "mean         0.596045\n",
              "std          0.490693\n",
              "min          0.000000\n",
              "25%          0.000000\n",
              "50%          1.000000\n",
              "75%          1.000000\n",
              "max          1.000000\n",
              "Name: partic, dtype: float64"
            ]
          },
          "metadata": {},
          "execution_count": 12
        }
      ]
    },
    {
      "cell_type": "markdown",
      "source": [
        "# 3.b)"
      ],
      "metadata": {
        "id": "Dp5rOe7oeouL"
      }
    },
    {
      "cell_type": "code",
      "source": [
        "df_married = dfl[(dfl['MARSTAT'].isin([\"Married\", \"Living in common-law\"])) & (dfl['SEX'] == \"Female\")]\n",
        "# df = df[(df['MARSTAT'] <= 2)]"
      ],
      "metadata": {
        "id": "jB3Wzvc-u-Rv"
      },
      "execution_count": 13,
      "outputs": []
    },
    {
      "cell_type": "code",
      "source": [
        "df_married['AGYOWNK']"
      ],
      "metadata": {
        "colab": {
          "base_uri": "https://localhost:8080/"
        },
        "id": "-lxmjtITRAT3",
        "outputId": "b48d6958-d464-4c7f-a324-ae4e941b7edd"
      },
      "execution_count": 14,
      "outputs": [
        {
          "output_type": "execute_result",
          "data": {
            "text/plain": [
              "12                                     NaN\n",
              "13            Youngest child 6 to 12 years\n",
              "14                                     NaN\n",
              "20                                     NaN\n",
              "22                                     NaN\n",
              "                        ...               \n",
              "103392                                 NaN\n",
              "103393       Youngest child 13 to 17 years\n",
              "103394                                 NaN\n",
              "103400    Youngest child less than 6 years\n",
              "103402    Youngest child less than 6 years\n",
              "Name: AGYOWNK, Length: 31276, dtype: category\n",
              "Categories (4, object): ['Youngest child less than 6 years' < 'Youngest child 6 to 12 years' <\n",
              "                         'Youngest child 13 to 17 years' < 'Youngest child 18 to 24 years']"
            ]
          },
          "metadata": {},
          "execution_count": 14
        }
      ]
    },
    {
      "cell_type": "code",
      "source": [
        "df_married['AGYOWNK'].value_counts(dropna=False)"
      ],
      "metadata": {
        "colab": {
          "base_uri": "https://localhost:8080/"
        },
        "id": "XF0OeENmRWDD",
        "outputId": "af1ccfd5-de83-49ab-ac77-ceb8a319b96d"
      },
      "execution_count": 15,
      "outputs": [
        {
          "output_type": "execute_result",
          "data": {
            "text/plain": [
              "NaN                                 19360\n",
              "Youngest child less than 6 years     4371\n",
              "Youngest child 6 to 12 years         3465\n",
              "Youngest child 13 to 17 years        2122\n",
              "Youngest child 18 to 24 years        1958\n",
              "Name: AGYOWNK, dtype: int64"
            ]
          },
          "metadata": {},
          "execution_count": 15
        }
      ]
    },
    {
      "cell_type": "code",
      "source": [
        "df_married['AGYOWNK'] = df_married['AGYOWNK'].astype('category').cat.add_categories('No children')"
      ],
      "metadata": {
        "colab": {
          "base_uri": "https://localhost:8080/"
        },
        "id": "u_GVOP4QvpwK",
        "outputId": "551fa0da-20a4-43e4-9203-5bfb7c68b621"
      },
      "execution_count": 16,
      "outputs": [
        {
          "output_type": "stream",
          "name": "stderr",
          "text": [
            "<ipython-input-16-62d52a584133>:1: SettingWithCopyWarning: \n",
            "A value is trying to be set on a copy of a slice from a DataFrame.\n",
            "Try using .loc[row_indexer,col_indexer] = value instead\n",
            "\n",
            "See the caveats in the documentation: https://pandas.pydata.org/pandas-docs/stable/user_guide/indexing.html#returning-a-view-versus-a-copy\n",
            "  df_married['AGYOWNK'] = df_married['AGYOWNK'].astype('category').cat.add_categories('No children')\n"
          ]
        }
      ]
    },
    {
      "cell_type": "code",
      "source": [
        "df_married['KIDS'] = df_married['AGYOWNK'].fillna('No children')"
      ],
      "metadata": {
        "id": "sDz5TyK4TNdt",
        "colab": {
          "base_uri": "https://localhost:8080/"
        },
        "outputId": "1353d393-59ef-406d-d73f-23210518dea8"
      },
      "execution_count": 17,
      "outputs": [
        {
          "output_type": "stream",
          "name": "stderr",
          "text": [
            "<ipython-input-17-fd812e15cc0c>:1: SettingWithCopyWarning: \n",
            "A value is trying to be set on a copy of a slice from a DataFrame.\n",
            "Try using .loc[row_indexer,col_indexer] = value instead\n",
            "\n",
            "See the caveats in the documentation: https://pandas.pydata.org/pandas-docs/stable/user_guide/indexing.html#returning-a-view-versus-a-copy\n",
            "  df_married['KIDS'] = df_married['AGYOWNK'].fillna('No children')\n"
          ]
        }
      ]
    },
    {
      "cell_type": "code",
      "source": [
        "df_married['KIDS'].value_counts(dropna=False)"
      ],
      "metadata": {
        "colab": {
          "base_uri": "https://localhost:8080/"
        },
        "outputId": "17662f4d-0155-47b3-8978-39f6de2b1142",
        "id": "NO-Km0Df1FWw"
      },
      "execution_count": 18,
      "outputs": [
        {
          "output_type": "execute_result",
          "data": {
            "text/plain": [
              "No children                         19360\n",
              "Youngest child less than 6 years     4371\n",
              "Youngest child 6 to 12 years         3465\n",
              "Youngest child 13 to 17 years        2122\n",
              "Youngest child 18 to 24 years        1958\n",
              "Name: KIDS, dtype: int64"
            ]
          },
          "metadata": {},
          "execution_count": 18
        }
      ]
    },
    {
      "cell_type": "code",
      "source": [
        "df['partic'].value_counts(normalize=True)"
      ],
      "metadata": {
        "colab": {
          "base_uri": "https://localhost:8080/"
        },
        "id": "r1OLrSQClWH_",
        "outputId": "78df0099-ca12-4468-eb84-9b0babfd4727"
      },
      "execution_count": 26,
      "outputs": [
        {
          "output_type": "execute_result",
          "data": {
            "text/plain": [
              "1    0.596045\n",
              "0    0.403955\n",
              "Name: partic, dtype: float64"
            ]
          },
          "metadata": {},
          "execution_count": 26
        }
      ]
    },
    {
      "cell_type": "markdown",
      "source": [
        "#3.c)"
      ],
      "metadata": {
        "id": "9zdC12P7pP39"
      }
    },
    {
      "cell_type": "code",
      "source": [
        "model = smf.ols('partic ~ C(EDUC) + C(AGE_12) + C(PROV) + C(KIDS)', data=df)"
      ],
      "metadata": {
        "id": "RX4I1GY1pRzV"
      },
      "execution_count": null,
      "outputs": []
    },
    {
      "cell_type": "code",
      "source": [
        "# Fit the model\n",
        "results = model.fit()\n",
        "\n",
        "# Display regression results\n",
        "print(results.summary())"
      ],
      "metadata": {
        "colab": {
          "base_uri": "https://localhost:8080/"
        },
        "id": "4SL4thJHrW0M",
        "outputId": "3b967583-7cef-4477-9faa-9a81aa7a9fbd"
      },
      "execution_count": null,
      "outputs": [
        {
          "output_type": "stream",
          "name": "stdout",
          "text": [
            "                            OLS Regression Results                            \n",
            "==============================================================================\n",
            "Dep. Variable:                 partic   R-squared:                       0.420\n",
            "Model:                            OLS   Adj. R-squared:                  0.420\n",
            "Method:                 Least Squares   F-statistic:                     727.6\n",
            "Date:                Thu, 16 Nov 2023   Prob (F-statistic):               0.00\n",
            "Time:                        22:47:36   Log-Likelihood:                -12789.\n",
            "No. Observations:               30158   AIC:                         2.564e+04\n",
            "Df Residuals:                   30127   BIC:                         2.590e+04\n",
            "Df Model:                          30                                         \n",
            "Covariance Type:            nonrobust                                         \n",
            "===================================================================================\n",
            "                      coef    std err          t      P>|t|      [0.025      0.975]\n",
            "-----------------------------------------------------------------------------------\n",
            "Intercept           0.4714      0.089      5.294      0.000       0.297       0.646\n",
            "C(EDUC)[T.1]        0.0632      0.015      4.080      0.000       0.033       0.094\n",
            "C(EDUC)[T.2]        0.1266      0.014      9.137      0.000       0.099       0.154\n",
            "C(EDUC)[T.3]        0.1483      0.018      8.402      0.000       0.114       0.183\n",
            "C(EDUC)[T.4]        0.1971      0.013     14.628      0.000       0.171       0.224\n",
            "C(EDUC)[T.5]        0.2218      0.014     15.967      0.000       0.195       0.249\n",
            "C(EDUC)[T.6]        0.2570      0.015     17.506      0.000       0.228       0.286\n",
            "C(AGE_12)[T.2]      0.0787      0.089      0.884      0.377      -0.096       0.253\n",
            "C(AGE_12)[T.3]      0.1076      0.088      1.225      0.220      -0.065       0.280\n",
            "C(AGE_12)[T.4]      0.1297      0.088      1.480      0.139      -0.042       0.301\n",
            "C(AGE_12)[T.5]      0.1508      0.088      1.721      0.085      -0.021       0.323\n",
            "C(AGE_12)[T.6]      0.1437      0.088      1.640      0.101      -0.028       0.316\n",
            "C(AGE_12)[T.7]      0.0933      0.088      1.064      0.287      -0.079       0.265\n",
            "C(AGE_12)[T.8]      0.0648      0.088      0.740      0.459      -0.107       0.237\n",
            "C(AGE_12)[T.9]     -0.0215      0.088     -0.245      0.806      -0.193       0.150\n",
            "C(AGE_12)[T.10]    -0.2398      0.088     -2.739      0.006      -0.411      -0.068\n",
            "C(AGE_12)[T.11]    -0.4993      0.088     -5.702      0.000      -0.671      -0.328\n",
            "C(AGE_12)[T.12]    -0.6440      0.087     -7.364      0.000      -0.815      -0.473\n",
            "C(PROV)[T.11]       0.0171      0.017      0.996      0.319      -0.017       0.051\n",
            "C(PROV)[T.12]      -0.0182      0.014     -1.313      0.189      -0.045       0.009\n",
            "C(PROV)[T.13]      -0.0125      0.014     -0.911      0.362      -0.039       0.014\n",
            "C(PROV)[T.24]       0.0101      0.011      0.893      0.372      -0.012       0.032\n",
            "C(PROV)[T.35]      -0.0160      0.011     -1.478      0.139      -0.037       0.005\n",
            "C(PROV)[T.46]    1.905e-05      0.013      0.001      0.999      -0.025       0.025\n",
            "C(PROV)[T.47]       0.0004      0.013      0.032      0.974      -0.026       0.026\n",
            "C(PROV)[T.48]      -0.0205      0.012     -1.641      0.101      -0.045       0.004\n",
            "C(PROV)[T.59]      -0.0026      0.012     -0.219      0.827      -0.026       0.021\n",
            "C(KIDS)[T.2.0]      0.0827      0.009      8.872      0.000       0.064       0.101\n",
            "C(KIDS)[T.3.0]      0.1228      0.011     10.779      0.000       0.100       0.145\n",
            "C(KIDS)[T.4.0]      0.1627      0.012     13.485      0.000       0.139       0.186\n",
            "C(KIDS)[T.NA]       0.0952      0.008     11.565      0.000       0.079       0.111\n",
            "==============================================================================\n",
            "Omnibus:                     2155.772   Durbin-Watson:                   2.000\n",
            "Prob(Omnibus):                  0.000   Jarque-Bera (JB):             2711.010\n",
            "Skew:                          -0.671   Prob(JB):                         0.00\n",
            "Kurtosis:                       3.597   Cond. No.                         199.\n",
            "==============================================================================\n",
            "\n",
            "Notes:\n",
            "[1] Standard Errors assume that the covariance matrix of the errors is correctly specified.\n"
          ]
        }
      ]
    },
    {
      "cell_type": "markdown",
      "source": [
        "# 3.d)"
      ],
      "metadata": {
        "id": "BQOfz3tGt9s6"
      }
    },
    {
      "cell_type": "code",
      "source": [
        "probit_model_formula = smf.probit(formula='partic ~ C(EDUC) + C(AGE_12) + C(PROV) + C(KIDS)', data=df)\n",
        "results_probit_formula = probit_model_formula.fit()\n",
        "print(results_probit_formula.summary())"
      ],
      "metadata": {
        "colab": {
          "base_uri": "https://localhost:8080/"
        },
        "id": "jVEFYDyUuAOR",
        "outputId": "c284c0cd-ebe8-4bf7-afce-4d3437d66f03"
      },
      "execution_count": null,
      "outputs": [
        {
          "output_type": "stream",
          "name": "stdout",
          "text": [
            "Optimization terminated successfully.\n",
            "         Current function value: 0.432355\n",
            "         Iterations 6\n",
            "                          Probit Regression Results                           \n",
            "==============================================================================\n",
            "Dep. Variable:                 partic   No. Observations:                30158\n",
            "Model:                         Probit   Df Residuals:                    30127\n",
            "Method:                           MLE   Df Model:                           30\n",
            "Date:                Thu, 16 Nov 2023   Pseudo R-squ.:                  0.3493\n",
            "Time:                        22:49:25   Log-Likelihood:                -13039.\n",
            "converged:                       True   LL-Null:                       -20039.\n",
            "Covariance Type:            nonrobust   LLR p-value:                     0.000\n",
            "===================================================================================\n",
            "                      coef    std err          z      P>|z|      [0.025      0.975]\n",
            "-----------------------------------------------------------------------------------\n",
            "Intercept          -0.5214      0.323     -1.615      0.106      -1.154       0.111\n",
            "C(EDUC)[T.1]        0.4241      0.073      5.822      0.000       0.281       0.567\n",
            "C(EDUC)[T.2]        0.6795      0.066     10.229      0.000       0.549       0.810\n",
            "C(EDUC)[T.3]        0.7455      0.079      9.467      0.000       0.591       0.900\n",
            "C(EDUC)[T.4]        0.9388      0.065     14.432      0.000       0.811       1.066\n",
            "C(EDUC)[T.5]        1.0367      0.066     15.602      0.000       0.907       1.167\n",
            "C(EDUC)[T.6]        1.1933      0.070     17.097      0.000       1.056       1.330\n",
            "C(AGE_12)[T.2]      0.2377      0.320      0.742      0.458      -0.390       0.865\n",
            "C(AGE_12)[T.3]      0.3572      0.315      1.134      0.257      -0.260       0.975\n",
            "C(AGE_12)[T.4]      0.4409      0.314      1.403      0.161      -0.175       1.057\n",
            "C(AGE_12)[T.5]      0.5291      0.315      1.682      0.092      -0.087       1.146\n",
            "C(AGE_12)[T.6]      0.5127      0.315      1.630      0.103      -0.104       1.129\n",
            "C(AGE_12)[T.7]      0.2811      0.315      0.894      0.372      -0.335       0.898\n",
            "C(AGE_12)[T.8]      0.1596      0.314      0.508      0.612      -0.456       0.775\n",
            "C(AGE_12)[T.9]     -0.1496      0.314     -0.477      0.633      -0.765       0.465\n",
            "C(AGE_12)[T.10]    -0.7238      0.313     -2.309      0.021      -1.338      -0.109\n",
            "C(AGE_12)[T.11]    -1.4456      0.314     -4.607      0.000      -2.061      -0.831\n",
            "C(AGE_12)[T.12]    -2.1734      0.314     -6.921      0.000      -2.789      -1.558\n",
            "C(PROV)[T.11]       0.0715      0.071      1.010      0.312      -0.067       0.210\n",
            "C(PROV)[T.12]      -0.0783      0.058     -1.354      0.176      -0.192       0.035\n",
            "C(PROV)[T.13]      -0.0600      0.057     -1.055      0.292      -0.172       0.052\n",
            "C(PROV)[T.24]       0.0378      0.048      0.793      0.428      -0.056       0.131\n",
            "C(PROV)[T.35]      -0.0716      0.045     -1.582      0.114      -0.160       0.017\n",
            "C(PROV)[T.46]       0.0052      0.053      0.098      0.922      -0.099       0.110\n",
            "C(PROV)[T.47]       0.0032      0.055      0.058      0.954      -0.105       0.112\n",
            "C(PROV)[T.48]      -0.0829      0.052     -1.601      0.109      -0.184       0.019\n",
            "C(PROV)[T.59]      -0.0173      0.050     -0.348      0.728      -0.115       0.080\n",
            "C(KIDS)[T.2.0]      0.3473      0.039      8.839      0.000       0.270       0.424\n",
            "C(KIDS)[T.3.0]      0.5213      0.049     10.666      0.000       0.425       0.617\n",
            "C(KIDS)[T.4.0]      0.6539      0.050     12.982      0.000       0.555       0.753\n",
            "C(KIDS)[T.NA]       0.4112      0.035     11.878      0.000       0.343       0.479\n",
            "===================================================================================\n"
          ]
        }
      ]
    },
    {
      "cell_type": "markdown",
      "source": [
        "#3.e)"
      ],
      "metadata": {
        "id": "g8LuvI7tyV85"
      }
    },
    {
      "cell_type": "code",
      "source": [
        "logit_model_formula = smf.logit(formula='partic ~ C(EDUC) + C(AGE_12) + C(PROV) + C(KIDS)', data=df)\n",
        "results_logit_formula = logit_model_formula.fit()\n",
        "print(results_logit_formula.summary())"
      ],
      "metadata": {
        "colab": {
          "base_uri": "https://localhost:8080/"
        },
        "id": "b90Z1ghfyR4t",
        "outputId": "b811bee1-d1e4-4b47-e872-9f12076837ba"
      },
      "execution_count": null,
      "outputs": [
        {
          "output_type": "stream",
          "name": "stdout",
          "text": [
            "Optimization terminated successfully.\n",
            "         Current function value: 0.432384\n",
            "         Iterations 7\n",
            "                           Logit Regression Results                           \n",
            "==============================================================================\n",
            "Dep. Variable:                 partic   No. Observations:                30158\n",
            "Model:                          Logit   Df Residuals:                    30127\n",
            "Method:                           MLE   Df Model:                           30\n",
            "Date:                Thu, 16 Nov 2023   Pseudo R-squ.:                  0.3493\n",
            "Time:                        22:51:15   Log-Likelihood:                -13040.\n",
            "converged:                       True   LL-Null:                       -20039.\n",
            "Covariance Type:            nonrobust   LLR p-value:                     0.000\n",
            "===================================================================================\n",
            "                      coef    std err          z      P>|z|      [0.025      0.975]\n",
            "-----------------------------------------------------------------------------------\n",
            "Intercept          -1.0294      0.535     -1.925      0.054      -2.078       0.019\n",
            "C(EDUC)[T.1]        0.7725      0.130      5.948      0.000       0.518       1.027\n",
            "C(EDUC)[T.2]        1.2302      0.119     10.380      0.000       0.998       1.463\n",
            "C(EDUC)[T.3]        1.3514      0.140      9.626      0.000       1.076       1.627\n",
            "C(EDUC)[T.4]        1.6797      0.116     14.459      0.000       1.452       1.907\n",
            "C(EDUC)[T.5]        1.8537      0.119     15.621      0.000       1.621       2.086\n",
            "C(EDUC)[T.6]        2.1483      0.125     17.134      0.000       1.903       2.394\n",
            "C(AGE_12)[T.2]      0.3900      0.529      0.738      0.461      -0.646       1.426\n",
            "C(AGE_12)[T.3]      0.6007      0.520      1.156      0.248      -0.418       1.619\n",
            "C(AGE_12)[T.4]      0.7543      0.518      1.455      0.146      -0.262       1.770\n",
            "C(AGE_12)[T.5]      0.9224      0.519      1.778      0.075      -0.094       1.939\n",
            "C(AGE_12)[T.6]      0.8944      0.519      1.723      0.085      -0.123       1.912\n",
            "C(AGE_12)[T.7]      0.4641      0.519      0.895      0.371      -0.553       1.481\n",
            "C(AGE_12)[T.8]      0.2443      0.518      0.472      0.637      -0.771       1.259\n",
            "C(AGE_12)[T.9]     -0.2781      0.517     -0.538      0.591      -1.291       0.735\n",
            "C(AGE_12)[T.10]    -1.2218      0.516     -2.366      0.018      -2.234      -0.210\n",
            "C(AGE_12)[T.11]    -2.4203      0.517     -4.680      0.000      -3.434      -1.407\n",
            "C(AGE_12)[T.12]    -3.7837      0.519     -7.297      0.000      -4.800      -2.767\n",
            "C(PROV)[T.11]       0.1272      0.126      1.007      0.314      -0.120       0.375\n",
            "C(PROV)[T.12]      -0.1399      0.102     -1.366      0.172      -0.341       0.061\n",
            "C(PROV)[T.13]      -0.0978      0.101     -0.967      0.333      -0.296       0.100\n",
            "C(PROV)[T.24]       0.0698      0.085      0.826      0.409      -0.096       0.235\n",
            "C(PROV)[T.35]      -0.1221      0.081     -1.517      0.129      -0.280       0.036\n",
            "C(PROV)[T.46]       0.0055      0.095      0.058      0.954      -0.181       0.192\n",
            "C(PROV)[T.47]       0.0098      0.099      0.099      0.921      -0.184       0.203\n",
            "C(PROV)[T.48]      -0.1384      0.092     -1.505      0.132      -0.319       0.042\n",
            "C(PROV)[T.59]      -0.0223      0.088     -0.252      0.801      -0.196       0.151\n",
            "C(KIDS)[T.2.0]      0.6284      0.072      8.736      0.000       0.487       0.769\n",
            "C(KIDS)[T.3.0]      0.9464      0.090     10.524      0.000       0.770       1.123\n",
            "C(KIDS)[T.4.0]      1.1803      0.091     12.938      0.000       1.002       1.359\n",
            "C(KIDS)[T.NA]       0.7469      0.063     11.892      0.000       0.624       0.870\n",
            "===================================================================================\n"
          ]
        }
      ]
    },
    {
      "cell_type": "code",
      "source": [
        "Stargazer([results_probit_formula, results_logit_formula])"
      ],
      "metadata": {
        "colab": {
          "base_uri": "https://localhost:8080/",
          "height": 1000
        },
        "id": "0VibZ5xSVXXo",
        "outputId": "162654e0-ef37-4783-bfbd-9db63ec47c8f"
      },
      "execution_count": null,
      "outputs": [
        {
          "output_type": "execute_result",
          "data": {
            "text/plain": [
              "<stargazer.stargazer.Stargazer at 0x7a55870b9d80>"
            ],
            "text/html": [
              "<table style=\"text-align:center\"><tr><td colspan=\"3\" style=\"border-bottom: 1px solid black\"></td></tr>\n",
              "<tr><td style=\"text-align:left\"></td><td colspan=\"2\"><em>Dependent variable: partic</em></td></tr><tr><td style=\"text-align:left\"></td><tr><td style=\"text-align:left\"></td><td>(1)</td><td>(2)</td></tr>\n",
              "<tr><td colspan=\"3\" style=\"border-bottom: 1px solid black\"></td></tr>\n",
              "\n",
              "<tr><td style=\"text-align:left\">C(AGE_12)[T.10]</td><td>-0.724<sup>**</sup></td><td>-1.222<sup>**</sup></td></tr>\n",
              "<tr><td style=\"text-align:left\"></td><td>(0.313)</td><td>(0.516)</td></tr>\n",
              "<tr><td style=\"text-align:left\">C(AGE_12)[T.11]</td><td>-1.446<sup>***</sup></td><td>-2.420<sup>***</sup></td></tr>\n",
              "<tr><td style=\"text-align:left\"></td><td>(0.314)</td><td>(0.517)</td></tr>\n",
              "<tr><td style=\"text-align:left\">C(AGE_12)[T.12]</td><td>-2.173<sup>***</sup></td><td>-3.784<sup>***</sup></td></tr>\n",
              "<tr><td style=\"text-align:left\"></td><td>(0.314)</td><td>(0.519)</td></tr>\n",
              "<tr><td style=\"text-align:left\">C(AGE_12)[T.2]</td><td>0.238<sup></sup></td><td>0.390<sup></sup></td></tr>\n",
              "<tr><td style=\"text-align:left\"></td><td>(0.320)</td><td>(0.529)</td></tr>\n",
              "<tr><td style=\"text-align:left\">C(AGE_12)[T.3]</td><td>0.357<sup></sup></td><td>0.601<sup></sup></td></tr>\n",
              "<tr><td style=\"text-align:left\"></td><td>(0.315)</td><td>(0.520)</td></tr>\n",
              "<tr><td style=\"text-align:left\">C(AGE_12)[T.4]</td><td>0.441<sup></sup></td><td>0.754<sup></sup></td></tr>\n",
              "<tr><td style=\"text-align:left\"></td><td>(0.314)</td><td>(0.518)</td></tr>\n",
              "<tr><td style=\"text-align:left\">C(AGE_12)[T.5]</td><td>0.529<sup>*</sup></td><td>0.922<sup>*</sup></td></tr>\n",
              "<tr><td style=\"text-align:left\"></td><td>(0.315)</td><td>(0.519)</td></tr>\n",
              "<tr><td style=\"text-align:left\">C(AGE_12)[T.6]</td><td>0.513<sup></sup></td><td>0.894<sup>*</sup></td></tr>\n",
              "<tr><td style=\"text-align:left\"></td><td>(0.315)</td><td>(0.519)</td></tr>\n",
              "<tr><td style=\"text-align:left\">C(AGE_12)[T.7]</td><td>0.281<sup></sup></td><td>0.464<sup></sup></td></tr>\n",
              "<tr><td style=\"text-align:left\"></td><td>(0.315)</td><td>(0.519)</td></tr>\n",
              "<tr><td style=\"text-align:left\">C(AGE_12)[T.8]</td><td>0.160<sup></sup></td><td>0.244<sup></sup></td></tr>\n",
              "<tr><td style=\"text-align:left\"></td><td>(0.314)</td><td>(0.518)</td></tr>\n",
              "<tr><td style=\"text-align:left\">C(AGE_12)[T.9]</td><td>-0.150<sup></sup></td><td>-0.278<sup></sup></td></tr>\n",
              "<tr><td style=\"text-align:left\"></td><td>(0.314)</td><td>(0.517)</td></tr>\n",
              "<tr><td style=\"text-align:left\">C(EDUC)[T.1]</td><td>0.424<sup>***</sup></td><td>0.772<sup>***</sup></td></tr>\n",
              "<tr><td style=\"text-align:left\"></td><td>(0.073)</td><td>(0.130)</td></tr>\n",
              "<tr><td style=\"text-align:left\">C(EDUC)[T.2]</td><td>0.679<sup>***</sup></td><td>1.230<sup>***</sup></td></tr>\n",
              "<tr><td style=\"text-align:left\"></td><td>(0.066)</td><td>(0.119)</td></tr>\n",
              "<tr><td style=\"text-align:left\">C(EDUC)[T.3]</td><td>0.746<sup>***</sup></td><td>1.351<sup>***</sup></td></tr>\n",
              "<tr><td style=\"text-align:left\"></td><td>(0.079)</td><td>(0.140)</td></tr>\n",
              "<tr><td style=\"text-align:left\">C(EDUC)[T.4]</td><td>0.939<sup>***</sup></td><td>1.680<sup>***</sup></td></tr>\n",
              "<tr><td style=\"text-align:left\"></td><td>(0.065)</td><td>(0.116)</td></tr>\n",
              "<tr><td style=\"text-align:left\">C(EDUC)[T.5]</td><td>1.037<sup>***</sup></td><td>1.854<sup>***</sup></td></tr>\n",
              "<tr><td style=\"text-align:left\"></td><td>(0.066)</td><td>(0.119)</td></tr>\n",
              "<tr><td style=\"text-align:left\">C(EDUC)[T.6]</td><td>1.193<sup>***</sup></td><td>2.148<sup>***</sup></td></tr>\n",
              "<tr><td style=\"text-align:left\"></td><td>(0.070)</td><td>(0.125)</td></tr>\n",
              "<tr><td style=\"text-align:left\">C(KIDS)[T.2.0]</td><td>0.347<sup>***</sup></td><td>0.628<sup>***</sup></td></tr>\n",
              "<tr><td style=\"text-align:left\"></td><td>(0.039)</td><td>(0.072)</td></tr>\n",
              "<tr><td style=\"text-align:left\">C(KIDS)[T.3.0]</td><td>0.521<sup>***</sup></td><td>0.946<sup>***</sup></td></tr>\n",
              "<tr><td style=\"text-align:left\"></td><td>(0.049)</td><td>(0.090)</td></tr>\n",
              "<tr><td style=\"text-align:left\">C(KIDS)[T.4.0]</td><td>0.654<sup>***</sup></td><td>1.180<sup>***</sup></td></tr>\n",
              "<tr><td style=\"text-align:left\"></td><td>(0.050)</td><td>(0.091)</td></tr>\n",
              "<tr><td style=\"text-align:left\">C(KIDS)[T.NA]</td><td>0.411<sup>***</sup></td><td>0.747<sup>***</sup></td></tr>\n",
              "<tr><td style=\"text-align:left\"></td><td>(0.035)</td><td>(0.063)</td></tr>\n",
              "<tr><td style=\"text-align:left\">C(PROV)[T.11]</td><td>0.072<sup></sup></td><td>0.127<sup></sup></td></tr>\n",
              "<tr><td style=\"text-align:left\"></td><td>(0.071)</td><td>(0.126)</td></tr>\n",
              "<tr><td style=\"text-align:left\">C(PROV)[T.12]</td><td>-0.078<sup></sup></td><td>-0.140<sup></sup></td></tr>\n",
              "<tr><td style=\"text-align:left\"></td><td>(0.058)</td><td>(0.102)</td></tr>\n",
              "<tr><td style=\"text-align:left\">C(PROV)[T.13]</td><td>-0.060<sup></sup></td><td>-0.098<sup></sup></td></tr>\n",
              "<tr><td style=\"text-align:left\"></td><td>(0.057)</td><td>(0.101)</td></tr>\n",
              "<tr><td style=\"text-align:left\">C(PROV)[T.24]</td><td>0.038<sup></sup></td><td>0.070<sup></sup></td></tr>\n",
              "<tr><td style=\"text-align:left\"></td><td>(0.048)</td><td>(0.085)</td></tr>\n",
              "<tr><td style=\"text-align:left\">C(PROV)[T.35]</td><td>-0.072<sup></sup></td><td>-0.122<sup></sup></td></tr>\n",
              "<tr><td style=\"text-align:left\"></td><td>(0.045)</td><td>(0.081)</td></tr>\n",
              "<tr><td style=\"text-align:left\">C(PROV)[T.46]</td><td>0.005<sup></sup></td><td>0.006<sup></sup></td></tr>\n",
              "<tr><td style=\"text-align:left\"></td><td>(0.053)</td><td>(0.095)</td></tr>\n",
              "<tr><td style=\"text-align:left\">C(PROV)[T.47]</td><td>0.003<sup></sup></td><td>0.010<sup></sup></td></tr>\n",
              "<tr><td style=\"text-align:left\"></td><td>(0.055)</td><td>(0.099)</td></tr>\n",
              "<tr><td style=\"text-align:left\">C(PROV)[T.48]</td><td>-0.083<sup></sup></td><td>-0.138<sup></sup></td></tr>\n",
              "<tr><td style=\"text-align:left\"></td><td>(0.052)</td><td>(0.092)</td></tr>\n",
              "<tr><td style=\"text-align:left\">C(PROV)[T.59]</td><td>-0.017<sup></sup></td><td>-0.022<sup></sup></td></tr>\n",
              "<tr><td style=\"text-align:left\"></td><td>(0.050)</td><td>(0.088)</td></tr>\n",
              "<tr><td style=\"text-align:left\">Intercept</td><td>-0.521<sup></sup></td><td>-1.029<sup>*</sup></td></tr>\n",
              "<tr><td style=\"text-align:left\"></td><td>(0.323)</td><td>(0.535)</td></tr>\n",
              "\n",
              "<td colspan=\"3\" style=\"border-bottom: 1px solid black\"></td></tr>\n",
              "<tr><td style=\"text-align: left\">Observations</td><td>30158</td><td>30158</td></tr>\n",
              "<tr><td colspan=\"3\" style=\"border-bottom: 1px solid black\"></td></tr><tr><td style=\"text-align: left\">Note:</td><td colspan=\"2\" style=\"text-align: right\"><sup>*</sup>p&lt;0.1; <sup>**</sup>p&lt;0.05; <sup>***</sup>p&lt;0.01</td></tr></table>"
            ]
          },
          "metadata": {},
          "execution_count": 91
        }
      ]
    }
  ]
}