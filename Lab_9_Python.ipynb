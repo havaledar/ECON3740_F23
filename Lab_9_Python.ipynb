{
  "nbformat": 4,
  "nbformat_minor": 0,
  "metadata": {
    "colab": {
      "provenance": [],
      "include_colab_link": true
    },
    "kernelspec": {
      "name": "python3",
      "display_name": "Python 3"
    },
    "language_info": {
      "name": "python"
    }
  },
  "cells": [
    {
      "cell_type": "markdown",
      "metadata": {
        "id": "view-in-github",
        "colab_type": "text"
      },
      "source": [
        "<a href=\"https://colab.research.google.com/github/havaledar/ECON3740/blob/main/Lab_9_Python.ipynb\" target=\"_parent\"><img src=\"https://colab.research.google.com/assets/colab-badge.svg\" alt=\"Open In Colab\"/></a>"
      ]
    },
    {
      "cell_type": "markdown",
      "source": [
        "# Libraries"
      ],
      "metadata": {
        "id": "9VCncoiSLfob"
      }
    },
    {
      "cell_type": "code",
      "source": [
        "!pip install stargazer"
      ],
      "metadata": {
        "id": "ZbKg-uZdM5_1",
        "outputId": "1045e20c-f4e2-47c2-dc50-e4a7c0e23242",
        "colab": {
          "base_uri": "https://localhost:8080/"
        }
      },
      "execution_count": 1,
      "outputs": [
        {
          "output_type": "stream",
          "name": "stdout",
          "text": [
            "Collecting stargazer\n",
            "  Downloading stargazer-0.0.6-py3-none-any.whl (11 kB)\n",
            "Installing collected packages: stargazer\n",
            "Successfully installed stargazer-0.0.6\n"
          ]
        }
      ]
    },
    {
      "cell_type": "code",
      "execution_count": 2,
      "metadata": {
        "id": "_LIiA4iZLW0L"
      },
      "outputs": [],
      "source": [
        "import pandas as pd\n",
        "import numpy as np\n",
        "import statsmodels.formula.api as smf\n",
        "from stargazer.stargazer import Stargazer"
      ]
    },
    {
      "cell_type": "markdown",
      "source": [
        "# Reading Data"
      ],
      "metadata": {
        "id": "s1NdSv6DLic3"
      }
    },
    {
      "cell_type": "code",
      "source": [
        "dfl = pd.read_stata('https://raw.githubusercontent.com/havaledar/ECON3740/main/LFS-71M0001-E-2023-August_F1.dta')"
      ],
      "metadata": {
        "id": "GdziybgMhbHb"
      },
      "execution_count": 53,
      "outputs": []
    },
    {
      "cell_type": "code",
      "source": [
        "df = pd.read_stata('https://raw.githubusercontent.com/havaledar/ECON3740/main/LFS-71M0001-E-2023-August_F1.dta', convert_categoricals=False)"
      ],
      "metadata": {
        "id": "L7HabiASL8LZ"
      },
      "execution_count": 24,
      "outputs": []
    },
    {
      "cell_type": "markdown",
      "source": [
        "# 3.a)"
      ],
      "metadata": {
        "id": "iPb-Ao4gbnxa"
      }
    },
    {
      "cell_type": "code",
      "source": [
        "dfl['LFSSTAT'].unique()"
      ],
      "metadata": {
        "colab": {
          "base_uri": "https://localhost:8080/"
        },
        "id": "rogr2zATqWV_",
        "outputId": "38becf57-642f-4891-ab0a-d488a0237ae0"
      },
      "execution_count": 83,
      "outputs": [
        {
          "output_type": "execute_result",
          "data": {
            "text/plain": [
              "['Unemployed', 'Employed, at work', 'Not in labour force', 'Employed, absent from work']\n",
              "Categories (4, object): ['Employed, at work' < 'Employed, absent from work' < 'Unemployed' <\n",
              "                         'Not in labour force']"
            ]
          },
          "metadata": {},
          "execution_count": 83
        }
      ]
    },
    {
      "cell_type": "code",
      "source": [
        "dfl['partic'] = (dfl['LFSSTAT'] != 'Not in labour force').astype(int)"
      ],
      "metadata": {
        "id": "GxzfI5l-qphz"
      },
      "execution_count": 84,
      "outputs": []
    },
    {
      "cell_type": "code",
      "source": [
        "dfl['LFSSTAT']"
      ],
      "metadata": {
        "colab": {
          "base_uri": "https://localhost:8080/"
        },
        "id": "zMs5MXj1q6c1",
        "outputId": "b09d5e3a-ca2d-4aa9-e6d7-8205c3b9caea"
      },
      "execution_count": 88,
      "outputs": [
        {
          "output_type": "execute_result",
          "data": {
            "text/plain": [
              "0                  Unemployed\n",
              "1           Employed, at work\n",
              "2           Employed, at work\n",
              "3         Not in labour force\n",
              "4         Not in labour force\n",
              "                 ...         \n",
              "103398      Employed, at work\n",
              "103399             Unemployed\n",
              "103400      Employed, at work\n",
              "103401      Employed, at work\n",
              "103402      Employed, at work\n",
              "Name: LFSSTAT, Length: 103403, dtype: category\n",
              "Categories (4, object): ['Employed, at work' < 'Employed, absent from work' < 'Unemployed' <\n",
              "                         'Not in labour force']"
            ]
          },
          "metadata": {},
          "execution_count": 88
        }
      ]
    },
    {
      "cell_type": "code",
      "source": [
        "dfl['partic'].value_counts(normalize=True)"
      ],
      "metadata": {
        "colab": {
          "base_uri": "https://localhost:8080/"
        },
        "id": "HyMtsbCLeqVw",
        "outputId": "63699f8f-2170-44f8-ec77-2c88a86a2749"
      },
      "execution_count": 89,
      "outputs": [
        {
          "output_type": "execute_result",
          "data": {
            "text/plain": [
              "1    0.637341\n",
              "0    0.362659\n",
              "Name: partic, dtype: float64"
            ]
          },
          "metadata": {},
          "execution_count": 89
        }
      ]
    },
    {
      "cell_type": "code",
      "source": [
        "pd.crosstab(dfl['partic'], dfl['SEX'], normalize=0)"
      ],
      "metadata": {
        "colab": {
          "base_uri": "https://localhost:8080/",
          "height": 143
        },
        "id": "HiIY41HtfkJi",
        "outputId": "319fadb9-3cae-4240-fcf2-b55fffc908f9"
      },
      "execution_count": 90,
      "outputs": [
        {
          "output_type": "execute_result",
          "data": {
            "text/plain": [
              "SEX         Male    Female\n",
              "partic                    \n",
              "0       0.427440  0.572560\n",
              "1       0.519278  0.480722"
            ],
            "text/html": [
              "\n",
              "  <div id=\"df-cdb1e1a1-9cb0-4d0f-b541-7c51e9b7d33a\" class=\"colab-df-container\">\n",
              "    <div>\n",
              "<style scoped>\n",
              "    .dataframe tbody tr th:only-of-type {\n",
              "        vertical-align: middle;\n",
              "    }\n",
              "\n",
              "    .dataframe tbody tr th {\n",
              "        vertical-align: top;\n",
              "    }\n",
              "\n",
              "    .dataframe thead th {\n",
              "        text-align: right;\n",
              "    }\n",
              "</style>\n",
              "<table border=\"1\" class=\"dataframe\">\n",
              "  <thead>\n",
              "    <tr style=\"text-align: right;\">\n",
              "      <th>SEX</th>\n",
              "      <th>Male</th>\n",
              "      <th>Female</th>\n",
              "    </tr>\n",
              "    <tr>\n",
              "      <th>partic</th>\n",
              "      <th></th>\n",
              "      <th></th>\n",
              "    </tr>\n",
              "  </thead>\n",
              "  <tbody>\n",
              "    <tr>\n",
              "      <th>0</th>\n",
              "      <td>0.427440</td>\n",
              "      <td>0.572560</td>\n",
              "    </tr>\n",
              "    <tr>\n",
              "      <th>1</th>\n",
              "      <td>0.519278</td>\n",
              "      <td>0.480722</td>\n",
              "    </tr>\n",
              "  </tbody>\n",
              "</table>\n",
              "</div>\n",
              "    <div class=\"colab-df-buttons\">\n",
              "\n",
              "  <div class=\"colab-df-container\">\n",
              "    <button class=\"colab-df-convert\" onclick=\"convertToInteractive('df-cdb1e1a1-9cb0-4d0f-b541-7c51e9b7d33a')\"\n",
              "            title=\"Convert this dataframe to an interactive table.\"\n",
              "            style=\"display:none;\">\n",
              "\n",
              "  <svg xmlns=\"http://www.w3.org/2000/svg\" height=\"24px\" viewBox=\"0 -960 960 960\">\n",
              "    <path d=\"M120-120v-720h720v720H120Zm60-500h600v-160H180v160Zm220 220h160v-160H400v160Zm0 220h160v-160H400v160ZM180-400h160v-160H180v160Zm440 0h160v-160H620v160ZM180-180h160v-160H180v160Zm440 0h160v-160H620v160Z\"/>\n",
              "  </svg>\n",
              "    </button>\n",
              "\n",
              "  <style>\n",
              "    .colab-df-container {\n",
              "      display:flex;\n",
              "      gap: 12px;\n",
              "    }\n",
              "\n",
              "    .colab-df-convert {\n",
              "      background-color: #E8F0FE;\n",
              "      border: none;\n",
              "      border-radius: 50%;\n",
              "      cursor: pointer;\n",
              "      display: none;\n",
              "      fill: #1967D2;\n",
              "      height: 32px;\n",
              "      padding: 0 0 0 0;\n",
              "      width: 32px;\n",
              "    }\n",
              "\n",
              "    .colab-df-convert:hover {\n",
              "      background-color: #E2EBFA;\n",
              "      box-shadow: 0px 1px 2px rgba(60, 64, 67, 0.3), 0px 1px 3px 1px rgba(60, 64, 67, 0.15);\n",
              "      fill: #174EA6;\n",
              "    }\n",
              "\n",
              "    .colab-df-buttons div {\n",
              "      margin-bottom: 4px;\n",
              "    }\n",
              "\n",
              "    [theme=dark] .colab-df-convert {\n",
              "      background-color: #3B4455;\n",
              "      fill: #D2E3FC;\n",
              "    }\n",
              "\n",
              "    [theme=dark] .colab-df-convert:hover {\n",
              "      background-color: #434B5C;\n",
              "      box-shadow: 0px 1px 3px 1px rgba(0, 0, 0, 0.15);\n",
              "      filter: drop-shadow(0px 1px 2px rgba(0, 0, 0, 0.3));\n",
              "      fill: #FFFFFF;\n",
              "    }\n",
              "  </style>\n",
              "\n",
              "    <script>\n",
              "      const buttonEl =\n",
              "        document.querySelector('#df-cdb1e1a1-9cb0-4d0f-b541-7c51e9b7d33a button.colab-df-convert');\n",
              "      buttonEl.style.display =\n",
              "        google.colab.kernel.accessAllowed ? 'block' : 'none';\n",
              "\n",
              "      async function convertToInteractive(key) {\n",
              "        const element = document.querySelector('#df-cdb1e1a1-9cb0-4d0f-b541-7c51e9b7d33a');\n",
              "        const dataTable =\n",
              "          await google.colab.kernel.invokeFunction('convertToInteractive',\n",
              "                                                    [key], {});\n",
              "        if (!dataTable) return;\n",
              "\n",
              "        const docLinkHtml = 'Like what you see? Visit the ' +\n",
              "          '<a target=\"_blank\" href=https://colab.research.google.com/notebooks/data_table.ipynb>data table notebook</a>'\n",
              "          + ' to learn more about interactive tables.';\n",
              "        element.innerHTML = '';\n",
              "        dataTable['output_type'] = 'display_data';\n",
              "        await google.colab.output.renderOutput(dataTable, element);\n",
              "        const docLink = document.createElement('div');\n",
              "        docLink.innerHTML = docLinkHtml;\n",
              "        element.appendChild(docLink);\n",
              "      }\n",
              "    </script>\n",
              "  </div>\n",
              "\n",
              "\n",
              "<div id=\"df-003a5df0-4b34-4912-a1ac-769d123c4f83\">\n",
              "  <button class=\"colab-df-quickchart\" onclick=\"quickchart('df-003a5df0-4b34-4912-a1ac-769d123c4f83')\"\n",
              "            title=\"Suggest charts\"\n",
              "            style=\"display:none;\">\n",
              "\n",
              "<svg xmlns=\"http://www.w3.org/2000/svg\" height=\"24px\"viewBox=\"0 0 24 24\"\n",
              "     width=\"24px\">\n",
              "    <g>\n",
              "        <path d=\"M19 3H5c-1.1 0-2 .9-2 2v14c0 1.1.9 2 2 2h14c1.1 0 2-.9 2-2V5c0-1.1-.9-2-2-2zM9 17H7v-7h2v7zm4 0h-2V7h2v10zm4 0h-2v-4h2v4z\"/>\n",
              "    </g>\n",
              "</svg>\n",
              "  </button>\n",
              "\n",
              "<style>\n",
              "  .colab-df-quickchart {\n",
              "      --bg-color: #E8F0FE;\n",
              "      --fill-color: #1967D2;\n",
              "      --hover-bg-color: #E2EBFA;\n",
              "      --hover-fill-color: #174EA6;\n",
              "      --disabled-fill-color: #AAA;\n",
              "      --disabled-bg-color: #DDD;\n",
              "  }\n",
              "\n",
              "  [theme=dark] .colab-df-quickchart {\n",
              "      --bg-color: #3B4455;\n",
              "      --fill-color: #D2E3FC;\n",
              "      --hover-bg-color: #434B5C;\n",
              "      --hover-fill-color: #FFFFFF;\n",
              "      --disabled-bg-color: #3B4455;\n",
              "      --disabled-fill-color: #666;\n",
              "  }\n",
              "\n",
              "  .colab-df-quickchart {\n",
              "    background-color: var(--bg-color);\n",
              "    border: none;\n",
              "    border-radius: 50%;\n",
              "    cursor: pointer;\n",
              "    display: none;\n",
              "    fill: var(--fill-color);\n",
              "    height: 32px;\n",
              "    padding: 0;\n",
              "    width: 32px;\n",
              "  }\n",
              "\n",
              "  .colab-df-quickchart:hover {\n",
              "    background-color: var(--hover-bg-color);\n",
              "    box-shadow: 0 1px 2px rgba(60, 64, 67, 0.3), 0 1px 3px 1px rgba(60, 64, 67, 0.15);\n",
              "    fill: var(--button-hover-fill-color);\n",
              "  }\n",
              "\n",
              "  .colab-df-quickchart-complete:disabled,\n",
              "  .colab-df-quickchart-complete:disabled:hover {\n",
              "    background-color: var(--disabled-bg-color);\n",
              "    fill: var(--disabled-fill-color);\n",
              "    box-shadow: none;\n",
              "  }\n",
              "\n",
              "  .colab-df-spinner {\n",
              "    border: 2px solid var(--fill-color);\n",
              "    border-color: transparent;\n",
              "    border-bottom-color: var(--fill-color);\n",
              "    animation:\n",
              "      spin 1s steps(1) infinite;\n",
              "  }\n",
              "\n",
              "  @keyframes spin {\n",
              "    0% {\n",
              "      border-color: transparent;\n",
              "      border-bottom-color: var(--fill-color);\n",
              "      border-left-color: var(--fill-color);\n",
              "    }\n",
              "    20% {\n",
              "      border-color: transparent;\n",
              "      border-left-color: var(--fill-color);\n",
              "      border-top-color: var(--fill-color);\n",
              "    }\n",
              "    30% {\n",
              "      border-color: transparent;\n",
              "      border-left-color: var(--fill-color);\n",
              "      border-top-color: var(--fill-color);\n",
              "      border-right-color: var(--fill-color);\n",
              "    }\n",
              "    40% {\n",
              "      border-color: transparent;\n",
              "      border-right-color: var(--fill-color);\n",
              "      border-top-color: var(--fill-color);\n",
              "    }\n",
              "    60% {\n",
              "      border-color: transparent;\n",
              "      border-right-color: var(--fill-color);\n",
              "    }\n",
              "    80% {\n",
              "      border-color: transparent;\n",
              "      border-right-color: var(--fill-color);\n",
              "      border-bottom-color: var(--fill-color);\n",
              "    }\n",
              "    90% {\n",
              "      border-color: transparent;\n",
              "      border-bottom-color: var(--fill-color);\n",
              "    }\n",
              "  }\n",
              "</style>\n",
              "\n",
              "  <script>\n",
              "    async function quickchart(key) {\n",
              "      const quickchartButtonEl =\n",
              "        document.querySelector('#' + key + ' button');\n",
              "      quickchartButtonEl.disabled = true;  // To prevent multiple clicks.\n",
              "      quickchartButtonEl.classList.add('colab-df-spinner');\n",
              "      try {\n",
              "        const charts = await google.colab.kernel.invokeFunction(\n",
              "            'suggestCharts', [key], {});\n",
              "      } catch (error) {\n",
              "        console.error('Error during call to suggestCharts:', error);\n",
              "      }\n",
              "      quickchartButtonEl.classList.remove('colab-df-spinner');\n",
              "      quickchartButtonEl.classList.add('colab-df-quickchart-complete');\n",
              "    }\n",
              "    (() => {\n",
              "      let quickchartButtonEl =\n",
              "        document.querySelector('#df-003a5df0-4b34-4912-a1ac-769d123c4f83 button');\n",
              "      quickchartButtonEl.style.display =\n",
              "        google.colab.kernel.accessAllowed ? 'block' : 'none';\n",
              "    })();\n",
              "  </script>\n",
              "</div>\n",
              "    </div>\n",
              "  </div>\n"
            ]
          },
          "metadata": {},
          "execution_count": 90
        }
      ]
    },
    {
      "cell_type": "markdown",
      "source": [
        "# 3.b)"
      ],
      "metadata": {
        "id": "Dp5rOe7oeouL"
      }
    },
    {
      "cell_type": "code",
      "source": [
        "dfl['KIDS'] = dfl['AGYOWNK'].cat.add_categories('No children')"
      ],
      "metadata": {
        "id": "5bB0N8ReiMhp"
      },
      "execution_count": 94,
      "outputs": []
    },
    {
      "cell_type": "code",
      "source": [
        "# Now you can safely fill missing values\n",
        "dfl['KIDS'].fillna('No children', inplace=True)"
      ],
      "metadata": {
        "id": "5Ih6jQSShHc2"
      },
      "execution_count": 95,
      "outputs": []
    },
    {
      "cell_type": "code",
      "source": [
        "dfl_mar_w = dfl[(dfl['MARSTAT'].isin([\"Married\" or \"Living in common-law\"])) & (dfl['SEX'] == \"Female\")]"
      ],
      "metadata": {
        "id": "G5AHBFb3kRk_"
      },
      "execution_count": 96,
      "outputs": []
    },
    {
      "cell_type": "code",
      "source": [
        "pd.value_counts(dfl_mar_w['KIDS'])"
      ],
      "metadata": {
        "colab": {
          "base_uri": "https://localhost:8080/"
        },
        "id": "r1OLrSQClWH_",
        "outputId": "b6a661d5-73a7-4e2a-f1bf-9de768093702"
      },
      "execution_count": 97,
      "outputs": [
        {
          "output_type": "execute_result",
          "data": {
            "text/plain": [
              "No children                         15627\n",
              "Youngest child less than 6 years     3280\n",
              "Youngest child 6 to 12 years         2834\n",
              "Youngest child 13 to 17 years        1761\n",
              "Youngest child 18 to 24 years        1691\n",
              "Name: KIDS, dtype: int64"
            ]
          },
          "metadata": {},
          "execution_count": 97
        }
      ]
    },
    {
      "cell_type": "markdown",
      "source": [
        "#3.c)"
      ],
      "metadata": {
        "id": "9zdC12P7pP39"
      }
    },
    {
      "cell_type": "code",
      "source": [
        "model = smf.ols('partic ~ C(EDUC) + C(AGE_12) + C(PROV) + C(KIDS)', data=dfl_mar_w)"
      ],
      "metadata": {
        "id": "RX4I1GY1pRzV"
      },
      "execution_count": 101,
      "outputs": []
    },
    {
      "cell_type": "code",
      "source": [
        "# Fit the model\n",
        "results = model.fit()\n",
        "\n",
        "# Display regression results\n",
        "print(results.summary())"
      ],
      "metadata": {
        "colab": {
          "base_uri": "https://localhost:8080/"
        },
        "id": "4SL4thJHrW0M",
        "outputId": "93b110e8-de0a-4b9a-8111-f57055410a51"
      },
      "execution_count": 102,
      "outputs": [
        {
          "output_type": "stream",
          "name": "stdout",
          "text": [
            "                            OLS Regression Results                            \n",
            "==============================================================================\n",
            "Dep. Variable:                 partic   R-squared:                       0.428\n",
            "Model:                            OLS   Adj. R-squared:                  0.427\n",
            "Method:                 Least Squares   F-statistic:                     627.2\n",
            "Date:                Tue, 14 Nov 2023   Prob (F-statistic):               0.00\n",
            "Time:                        21:12:55   Log-Likelihood:                -10938.\n",
            "No. Observations:               25193   AIC:                         2.194e+04\n",
            "Df Residuals:                   25162   BIC:                         2.219e+04\n",
            "Df Model:                          30                                         \n",
            "Covariance Type:            nonrobust                                         \n",
            "===================================================================================================================\n",
            "                                                      coef    std err          t      P>|t|      [0.025      0.975]\n",
            "-------------------------------------------------------------------------------------------------------------------\n",
            "Intercept                                           0.4071      0.168      2.417      0.016       0.077       0.737\n",
            "C(EDUC)[T.Some high school]                         0.0693      0.017      4.156      0.000       0.037       0.102\n",
            "C(EDUC)[T.High school graduate]                     0.1088      0.015      7.393      0.000       0.080       0.138\n",
            "C(EDUC)[T.Some postsecondary]                       0.1380      0.019      7.154      0.000       0.100       0.176\n",
            "C(EDUC)[T.Postsecondary certificate or diploma]     0.1694      0.014     11.870      0.000       0.141       0.197\n",
            "C(EDUC)[T.Bachelor's degree]                        0.1965      0.015     13.355      0.000       0.168       0.225\n",
            "C(EDUC)[T.Above bachelor's degree]                  0.2337      0.016     15.054      0.000       0.203       0.264\n",
            "C(AGE_12)[T.20 to 24 years]                         0.1352      0.170      0.796      0.426      -0.198       0.468\n",
            "C(AGE_12)[T.25 to 29 years]                         0.1957      0.168      1.166      0.244      -0.133       0.525\n",
            "C(AGE_12)[T.30 to 34 years]                         0.2182      0.168      1.302      0.193      -0.110       0.547\n",
            "C(AGE_12)[T.35 to 39 years]                         0.2204      0.168      1.315      0.188      -0.108       0.549\n",
            "C(AGE_12)[T.40 to 44 years]                         0.2101      0.168      1.254      0.210      -0.118       0.539\n",
            "C(AGE_12)[T.45 to 49 years]                         0.1784      0.168      1.065      0.287      -0.150       0.507\n",
            "C(AGE_12)[T.50 to 54 years]                         0.1545      0.167      0.923      0.356      -0.174       0.483\n",
            "C(AGE_12)[T.55 to 59 years]                         0.0692      0.167      0.413      0.680      -0.259       0.397\n",
            "C(AGE_12)[T.60 to 64 years]                        -0.1636      0.167     -0.977      0.328      -0.492       0.164\n",
            "C(AGE_12)[T.65 to 69 years]                        -0.4142      0.167     -2.474      0.013      -0.742      -0.086\n",
            "C(AGE_12)[T.70 and over]                           -0.5503      0.167     -3.289      0.001      -0.878      -0.222\n",
            "C(PROV)[T.Prince Edward Island]                     0.0411      0.018      2.316      0.021       0.006       0.076\n",
            "C(PROV)[T.Nova Scotia]                             -0.0364      0.015     -2.467      0.014      -0.065      -0.007\n",
            "C(PROV)[T.New Brunswick]                           -0.0099      0.015     -0.660      0.509      -0.039       0.019\n",
            "C(PROV)[T.Quebec]                                  -0.0018      0.012     -0.149      0.882      -0.026       0.022\n",
            "C(PROV)[T.Ontario]                                 -0.0178      0.011     -1.601      0.109      -0.040       0.004\n",
            "C(PROV)[T.Manitoba]                                -0.0084      0.013     -0.629      0.529      -0.035       0.018\n",
            "C(PROV)[T.Saskatchewan]                         -6.124e-05      0.014     -0.004      0.997      -0.028       0.028\n",
            "C(PROV)[T.Alberta]                                 -0.0109      0.013     -0.836      0.403      -0.037       0.015\n",
            "C(PROV)[T.British Columbia]                        -0.0202      0.012     -1.633      0.103      -0.044       0.004\n",
            "C(KIDS)[T.Youngest child 6 to 12 years]             0.0873      0.011      8.273      0.000       0.067       0.108\n",
            "C(KIDS)[T.Youngest child 13 to 17 years]            0.1406      0.013     10.915      0.000       0.115       0.166\n",
            "C(KIDS)[T.Youngest child 18 to 24 years]            0.1564      0.013     11.615      0.000       0.130       0.183\n",
            "C(KIDS)[T.No children]                              0.0846      0.010      8.589      0.000       0.065       0.104\n",
            "==============================================================================\n",
            "Omnibus:                     1270.513   Durbin-Watson:                   2.006\n",
            "Prob(Omnibus):                  0.000   Jarque-Bera (JB):             1512.065\n",
            "Skew:                          -0.546   Prob(JB):                         0.00\n",
            "Kurtosis:                       3.499   Cond. No.                         347.\n",
            "==============================================================================\n",
            "\n",
            "Notes:\n",
            "[1] Standard Errors assume that the covariance matrix of the errors is correctly specified.\n"
          ]
        }
      ]
    },
    {
      "cell_type": "markdown",
      "source": [
        "# 3.d)"
      ],
      "metadata": {
        "id": "BQOfz3tGt9s6"
      }
    },
    {
      "cell_type": "code",
      "source": [
        "probit_model_formula = smf.probit(formula='partic ~ C(EDUC) + C(AGE_12) + C(PROV) + C(KIDS)', data=dfl_mar_w)\n",
        "results_probit_formula = probit_model_formula.fit()\n",
        "print(results_probit_formula.summary())"
      ],
      "metadata": {
        "colab": {
          "base_uri": "https://localhost:8080/"
        },
        "id": "jVEFYDyUuAOR",
        "outputId": "91b39fd2-acc2-4ffb-a021-320e8c4397f7"
      },
      "execution_count": 103,
      "outputs": [
        {
          "output_type": "stream",
          "name": "stdout",
          "text": [
            "Optimization terminated successfully.\n",
            "         Current function value: 0.439492\n",
            "         Iterations 6\n",
            "                          Probit Regression Results                           \n",
            "==============================================================================\n",
            "Dep. Variable:                 partic   No. Observations:                25193\n",
            "Model:                         Probit   Df Residuals:                    25162\n",
            "Method:                           MLE   Df Model:                           30\n",
            "Date:                Tue, 14 Nov 2023   Pseudo R-squ.:                  0.3544\n",
            "Time:                        21:27:04   Log-Likelihood:                -11072.\n",
            "converged:                       True   LL-Null:                       -17151.\n",
            "Covariance Type:            nonrobust   LLR p-value:                     0.000\n",
            "===================================================================================================================\n",
            "                                                      coef    std err          z      P>|z|      [0.025      0.975]\n",
            "-------------------------------------------------------------------------------------------------------------------\n",
            "Intercept                                          -0.7132      0.571     -1.248      0.212      -1.833       0.407\n",
            "C(EDUC)[T.Some high school]                         0.4561      0.080      5.720      0.000       0.300       0.612\n",
            "C(EDUC)[T.High school graduate]                     0.6264      0.072      8.718      0.000       0.486       0.767\n",
            "C(EDUC)[T.Some postsecondary]                       0.7244      0.087      8.338      0.000       0.554       0.895\n",
            "C(EDUC)[T.Postsecondary certificate or diploma]     0.8485      0.070     12.073      0.000       0.711       0.986\n",
            "C(EDUC)[T.Bachelor's degree]                        0.9514      0.072     13.295      0.000       0.811       1.092\n",
            "C(EDUC)[T.Above bachelor's degree]                  1.1098      0.075     14.847      0.000       0.963       1.256\n",
            "C(AGE_12)[T.20 to 24 years]                         0.4419      0.575      0.768      0.442      -0.685       1.569\n",
            "C(AGE_12)[T.25 to 29 years]                         0.6269      0.567      1.105      0.269      -0.485       1.738\n",
            "C(AGE_12)[T.30 to 34 years]                         0.7099      0.566      1.254      0.210      -0.399       1.819\n",
            "C(AGE_12)[T.35 to 39 years]                         0.7220      0.566      1.276      0.202      -0.387       1.831\n",
            "C(AGE_12)[T.40 to 44 years]                         0.6868      0.566      1.214      0.225      -0.422       1.796\n",
            "C(AGE_12)[T.45 to 49 years]                         0.5568      0.566      0.985      0.325      -0.552       1.665\n",
            "C(AGE_12)[T.50 to 54 years]                         0.4544      0.565      0.804      0.421      -0.653       1.562\n",
            "C(AGE_12)[T.55 to 59 years]                         0.1565      0.565      0.277      0.782      -0.951       1.263\n",
            "C(AGE_12)[T.60 to 64 years]                        -0.4462      0.565     -0.790      0.429      -1.553       0.660\n",
            "C(AGE_12)[T.65 to 69 years]                        -1.1566      0.565     -2.048      0.041      -2.263      -0.050\n",
            "C(AGE_12)[T.70 and over]                           -1.8602      0.565     -3.293      0.001      -2.967      -0.753\n",
            "C(PROV)[T.Prince Edward Island]                     0.1583      0.074      2.153      0.031       0.014       0.302\n",
            "C(PROV)[T.Nova Scotia]                             -0.1460      0.061     -2.406      0.016      -0.265      -0.027\n",
            "C(PROV)[T.New Brunswick]                           -0.0455      0.062     -0.733      0.464      -0.167       0.076\n",
            "C(PROV)[T.Quebec]                                  -0.0165      0.051     -0.322      0.747      -0.117       0.084\n",
            "C(PROV)[T.Ontario]                                 -0.0766      0.046     -1.655      0.098      -0.167       0.014\n",
            "C(PROV)[T.Manitoba]                                -0.0299      0.055     -0.541      0.589      -0.138       0.078\n",
            "C(PROV)[T.Saskatchewan]                             0.0016      0.058      0.027      0.978      -0.112       0.115\n",
            "C(PROV)[T.Alberta]                                 -0.0411      0.054     -0.763      0.445      -0.147       0.064\n",
            "C(PROV)[T.British Columbia]                        -0.0838      0.051     -1.640      0.101      -0.184       0.016\n",
            "C(KIDS)[T.Youngest child 6 to 12 years]             0.3458      0.043      8.027      0.000       0.261       0.430\n",
            "C(KIDS)[T.Youngest child 13 to 17 years]            0.5742      0.054     10.570      0.000       0.468       0.681\n",
            "C(KIDS)[T.Youngest child 18 to 24 years]            0.5990      0.055     10.960      0.000       0.492       0.706\n",
            "C(KIDS)[T.No children]                              0.3486      0.040      8.675      0.000       0.270       0.427\n",
            "===================================================================================================================\n"
          ]
        }
      ]
    },
    {
      "cell_type": "markdown",
      "source": [
        "#3.e)"
      ],
      "metadata": {
        "id": "g8LuvI7tyV85"
      }
    },
    {
      "cell_type": "code",
      "source": [
        "logit_model_formula = smf.logit(formula='partic ~ C(EDUC) + C(AGE_12) + C(PROV) + C(KIDS)', data=dfl_mar_w)\n",
        "results_logit_formula = logit_model_formula.fit()\n",
        "print(results_logit_formula.summary())"
      ],
      "metadata": {
        "colab": {
          "base_uri": "https://localhost:8080/"
        },
        "id": "b90Z1ghfyR4t",
        "outputId": "d1e1d205-5699-49bb-f209-dcc90800fc36"
      },
      "execution_count": 104,
      "outputs": [
        {
          "output_type": "stream",
          "name": "stdout",
          "text": [
            "Optimization terminated successfully.\n",
            "         Current function value: 0.439424\n",
            "         Iterations 7\n",
            "                           Logit Regression Results                           \n",
            "==============================================================================\n",
            "Dep. Variable:                 partic   No. Observations:                25193\n",
            "Model:                          Logit   Df Residuals:                    25162\n",
            "Method:                           MLE   Df Model:                           30\n",
            "Date:                Tue, 14 Nov 2023   Pseudo R-squ.:                  0.3545\n",
            "Time:                        21:43:35   Log-Likelihood:                -11070.\n",
            "converged:                       True   LL-Null:                       -17151.\n",
            "Covariance Type:            nonrobust   LLR p-value:                     0.000\n",
            "===================================================================================================================\n",
            "                                                      coef    std err          z      P>|z|      [0.025      0.975]\n",
            "-------------------------------------------------------------------------------------------------------------------\n",
            "Intercept                                          -1.3580      0.929     -1.461      0.144      -3.179       0.463\n",
            "C(EDUC)[T.Some high school]                         0.8315      0.143      5.823      0.000       0.552       1.111\n",
            "C(EDUC)[T.High school graduate]                     1.1451      0.128      8.928      0.000       0.894       1.396\n",
            "C(EDUC)[T.Some postsecondary]                       1.3285      0.154      8.608      0.000       1.026       1.631\n",
            "C(EDUC)[T.Postsecondary certificate or diploma]     1.5302      0.126     12.191      0.000       1.284       1.776\n",
            "C(EDUC)[T.Bachelor's degree]                        1.7083      0.128     13.377      0.000       1.458       1.959\n",
            "C(EDUC)[T.Above bachelor's degree]                  2.0019      0.134     14.945      0.000       1.739       2.264\n",
            "C(AGE_12)[T.20 to 24 years]                         0.7312      0.934      0.783      0.434      -1.099       2.562\n",
            "C(AGE_12)[T.25 to 29 years]                         1.0607      0.921      1.152      0.249      -0.744       2.865\n",
            "C(AGE_12)[T.30 to 34 years]                         1.2141      0.919      1.322      0.186      -0.586       3.015\n",
            "C(AGE_12)[T.35 to 39 years]                         1.2393      0.918      1.350      0.177      -0.560       3.039\n",
            "C(AGE_12)[T.40 to 44 years]                         1.1766      0.918      1.282      0.200      -0.623       2.976\n",
            "C(AGE_12)[T.45 to 49 years]                         0.9356      0.918      1.020      0.308      -0.863       2.734\n",
            "C(AGE_12)[T.50 to 54 years]                         0.7522      0.917      0.820      0.412      -1.045       2.549\n",
            "C(AGE_12)[T.55 to 59 years]                         0.2445      0.916      0.267      0.790      -1.551       2.040\n",
            "C(AGE_12)[T.60 to 64 years]                        -0.7384      0.916     -0.806      0.420      -2.533       1.056\n",
            "C(AGE_12)[T.65 to 69 years]                        -1.9165      0.916     -2.092      0.036      -3.712      -0.121\n",
            "C(AGE_12)[T.70 and over]                           -3.2524      0.917     -3.547      0.000      -5.049      -1.455\n",
            "C(PROV)[T.Prince Edward Island]                     0.2991      0.131      2.290      0.022       0.043       0.555\n",
            "C(PROV)[T.Nova Scotia]                             -0.2639      0.106     -2.480      0.013      -0.472      -0.055\n",
            "C(PROV)[T.New Brunswick]                           -0.0772      0.108     -0.713      0.476      -0.289       0.135\n",
            "C(PROV)[T.Quebec]                                  -0.0262      0.090     -0.290      0.772      -0.203       0.151\n",
            "C(PROV)[T.Ontario]                                 -0.1325      0.081     -1.629      0.103      -0.292       0.027\n",
            "C(PROV)[T.Manitoba]                                -0.0632      0.097     -0.650      0.516      -0.254       0.127\n",
            "C(PROV)[T.Saskatchewan]                             0.0089      0.102      0.087      0.931      -0.192       0.210\n",
            "C(PROV)[T.Alberta]                                 -0.0679      0.095     -0.714      0.475      -0.254       0.118\n",
            "C(PROV)[T.British Columbia]                        -0.1492      0.090     -1.656      0.098      -0.326       0.027\n",
            "C(KIDS)[T.Youngest child 6 to 12 years]             0.6260      0.078      8.039      0.000       0.473       0.779\n",
            "C(KIDS)[T.Youngest child 13 to 17 years]            1.0499      0.100     10.494      0.000       0.854       1.246\n",
            "C(KIDS)[T.Youngest child 18 to 24 years]            1.0739      0.098     10.946      0.000       0.882       1.266\n",
            "C(KIDS)[T.No children]                              0.6376      0.072      8.805      0.000       0.496       0.779\n",
            "===================================================================================================================\n"
          ]
        }
      ]
    }
  ]
}