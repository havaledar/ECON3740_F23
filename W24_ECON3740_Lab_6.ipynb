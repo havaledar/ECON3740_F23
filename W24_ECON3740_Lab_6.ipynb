{
  "nbformat": 4,
  "nbformat_minor": 0,
  "metadata": {
    "colab": {
      "provenance": [],
      "authorship_tag": "ABX9TyOfPfltDF920F2xWXYXZ0dm",
      "include_colab_link": true
    },
    "kernelspec": {
      "name": "python3",
      "display_name": "Python 3"
    },
    "language_info": {
      "name": "python"
    }
  },
  "cells": [
    {
      "cell_type": "markdown",
      "metadata": {
        "id": "view-in-github",
        "colab_type": "text"
      },
      "source": [
        "<a href=\"https://colab.research.google.com/github/havaledar/ECON3740_F23/blob/main/W24_ECON3740_Lab_6.ipynb\" target=\"_parent\"><img src=\"https://colab.research.google.com/assets/colab-badge.svg\" alt=\"Open In Colab\"/></a>"
      ]
    },
    {
      "cell_type": "markdown",
      "metadata": {
        "id": "MhTM0yE_ijf2"
      },
      "source": [
        "# Libraries"
      ]
    },
    {
      "cell_type": "code",
      "execution_count": 2,
      "metadata": {
        "id": "bOE0A7_id97m"
      },
      "outputs": [],
      "source": [
        "# !pip install gdown > /dev/null 2>&1\n",
        "!pip install stargazer > /dev/null 2>&1\n",
        "\n",
        "\n",
        "import gdown\n",
        "import pandas as pd\n",
        "import statsmodels.formula.api as smf\n",
        "from stargazer.stargazer import Stargazer"
      ]
    },
    {
      "cell_type": "markdown",
      "metadata": {
        "id": "-i95kXnqvTd_"
      },
      "source": [
        "# Question 1"
      ]
    },
    {
      "cell_type": "markdown",
      "metadata": {
        "id": "44T9aiuJwLeZ"
      },
      "source": [
        "## Reading data"
      ]
    },
    {
      "cell_type": "code",
      "execution_count": 3,
      "metadata": {
        "colab": {
          "base_uri": "https://localhost:8080/",
          "height": 0
        },
        "id": "cHNar4HxwM-8",
        "outputId": "5e6ba40d-df8e-4a1b-a0d6-b6c83ce8c687"
      },
      "outputs": [
        {
          "output_type": "stream",
          "name": "stderr",
          "text": [
            "Downloading...\n",
            "From: https://drive.google.com/uc?id=1FAfkh6Pr6J3CRCLs8ql8QMCa1309fcEU\n",
            "To: /content/ceosal.dta\n",
            "100%|██████████| 13.9k/13.9k [00:00<00:00, 25.2MB/s]\n"
          ]
        },
        {
          "output_type": "execute_result",
          "data": {
            "text/plain": [
              "'ceosal.dta'"
            ],
            "application/vnd.google.colaboratory.intrinsic+json": {
              "type": "string"
            }
          },
          "metadata": {},
          "execution_count": 3
        }
      ],
      "source": [
        "url = 'https://drive.google.com/file/d/1FAfkh6Pr6J3CRCLs8ql8QMCa1309fcEU/view?usp=drive_link'\n",
        "output_filename = 'ceosal.dta'\n",
        "gdown.download(url, output_filename, fuzzy=True ,quiet=False)"
      ]
    },
    {
      "cell_type": "code",
      "execution_count": 4,
      "metadata": {
        "id": "_ZnddxunKgLH"
      },
      "outputs": [],
      "source": [
        "CEOSAL = pd.read_stata('/content/ceosal.dta', preserve_dtypes=False)"
      ]
    },
    {
      "cell_type": "code",
      "execution_count": 5,
      "metadata": {
        "colab": {
          "base_uri": "https://localhost:8080/"
        },
        "id": "kFlYq5gqwacZ",
        "outputId": "974c4f26-6dde-4cdd-bbdb-aeb4dffce72e"
      },
      "outputs": [
        {
          "output_type": "stream",
          "name": "stdout",
          "text": [
            "<class 'pandas.core.frame.DataFrame'>\n",
            "Int64Index: 175 entries, 0 to 174\n",
            "Data columns (total 13 columns):\n",
            " #   Column    Non-Null Count  Dtype  \n",
            "---  ------    --------------  -----  \n",
            " 0   salary    175 non-null    int64  \n",
            " 1   age       175 non-null    int64  \n",
            " 2   college   175 non-null    int64  \n",
            " 3   grad      175 non-null    int64  \n",
            " 4   comten    175 non-null    int64  \n",
            " 5   ceoten    175 non-null    int64  \n",
            " 6   sales     175 non-null    float64\n",
            " 7   profits   175 non-null    int64  \n",
            " 8   mktval    175 non-null    float64\n",
            " 9   comtensq  175 non-null    int64  \n",
            " 10  ceotensq  175 non-null    int64  \n",
            " 11  profmarg  175 non-null    float64\n",
            " 12  nsal      175 non-null    float64\n",
            "dtypes: float64(4), int64(9)\n",
            "memory usage: 19.1 KB\n"
          ]
        }
      ],
      "source": [
        "CEOSAL.info()"
      ]
    },
    {
      "cell_type": "markdown",
      "metadata": {
        "id": "C7RizkzzyXBE"
      },
      "source": [
        "## Filtering the data"
      ]
    },
    {
      "cell_type": "code",
      "execution_count": 6,
      "metadata": {
        "id": "t-jQIkVgyY_s"
      },
      "outputs": [],
      "source": [
        "CEOSAL = CEOSAL[CEOSAL['age'] >50]"
      ]
    },
    {
      "cell_type": "markdown",
      "metadata": {
        "id": "r_RaAAwwwzNm"
      },
      "source": [
        "## Salary ~ Sales"
      ]
    },
    {
      "cell_type": "code",
      "execution_count": 7,
      "metadata": {
        "id": "bJW4BWXhwyiR"
      },
      "outputs": [],
      "source": [
        "m1 = smf.ols('salary ~ sales', CEOSAL)\n",
        "\n",
        "results_m1 = m1.fit()"
      ]
    },
    {
      "cell_type": "markdown",
      "metadata": {
        "id": "tS692DgMy385"
      },
      "source": [
        "## Salary ~ Sales + Market Value"
      ]
    },
    {
      "cell_type": "code",
      "execution_count": 8,
      "metadata": {
        "id": "uMKc349Sy39R"
      },
      "outputs": [],
      "source": [
        "m2 = smf.ols('salary ~ sales + mktval', CEOSAL)\n",
        "\n",
        "results_m2 = m2.fit()"
      ]
    },
    {
      "cell_type": "markdown",
      "metadata": {
        "id": "AvhH_cop18Qa"
      },
      "source": [
        "## Regression table"
      ]
    },
    {
      "cell_type": "code",
      "execution_count": 9,
      "metadata": {
        "id": "axggg23418Qb",
        "outputId": "6351ab7f-c1ee-48e2-fe01-542dcbca3c27",
        "colab": {
          "base_uri": "https://localhost:8080/",
          "height": 0
        }
      },
      "outputs": [
        {
          "output_type": "execute_result",
          "data": {
            "text/plain": [
              "<stargazer.stargazer.Stargazer at 0x7a5829d7cc70>"
            ],
            "text/html": [
              "<table style=\"text-align:center\"><tr><td colspan=\"3\" style=\"border-bottom: 1px solid black\"></td></tr>\n",
              "<tr><td style=\"text-align:left\"></td><td colspan=\"2\"><em>Dependent variable: salary</em></td></tr><tr><td style=\"text-align:left\"></td><tr><td style=\"text-align:left\"></td><td>(1)</td><td>(2)</td></tr>\n",
              "<tr><td colspan=\"3\" style=\"border-bottom: 1px solid black\"></td></tr>\n",
              "\n",
              "<tr><td style=\"text-align:left\">Intercept</td><td>708.289<sup>***</sup></td><td>687.753<sup>***</sup></td></tr>\n",
              "<tr><td style=\"text-align:left\"></td><td>(40.778)</td><td>(38.843)</td></tr>\n",
              "<tr><td style=\"text-align:left\">mktval</td><td></td><td>0.030<sup>***</sup></td></tr>\n",
              "<tr><td style=\"text-align:left\"></td><td></td><td>(0.007)</td></tr>\n",
              "<tr><td style=\"text-align:left\">sales</td><td>0.037<sup>***</sup></td><td>0.013<sup>*</sup></td></tr>\n",
              "<tr><td style=\"text-align:left\"></td><td>(0.005)</td><td>(0.008)</td></tr>\n",
              "\n",
              "<td colspan=\"3\" style=\"border-bottom: 1px solid black\"></td></tr>\n",
              "<tr><td style=\"text-align: left\">Observations</td><td>137</td><td>137</td></tr><tr><td style=\"text-align: left\">R<sup>2</sup></td><td>0.278</td><td>0.360</td></tr><tr><td style=\"text-align: left\">Adjusted R<sup>2</sup></td><td>0.272</td><td>0.351</td></tr><tr><td style=\"text-align: left\">Residual Std. Error</td><td>404.573 (df=135)</td><td>382.245 (df=134)</td></tr><tr><td style=\"text-align: left\">F Statistic</td><td>51.941<sup>***</sup> (df=1; 135)</td><td>37.709<sup>***</sup> (df=2; 134)</td></tr>\n",
              "<tr><td colspan=\"3\" style=\"border-bottom: 1px solid black\"></td></tr><tr><td style=\"text-align: left\">Note:</td><td colspan=\"2\" style=\"text-align: right\"><sup>*</sup>p&lt;0.1; <sup>**</sup>p&lt;0.05; <sup>***</sup>p&lt;0.01</td></tr></table>"
            ]
          },
          "metadata": {},
          "execution_count": 9
        }
      ],
      "source": [
        "Stargazer([results_m1, results_m2])"
      ]
    },
    {
      "cell_type": "markdown",
      "metadata": {
        "id": "afrk8R_F18Qb"
      },
      "source": [
        "# Question 2"
      ]
    },
    {
      "cell_type": "markdown",
      "metadata": {
        "id": "OHT-ZYM40wNR"
      },
      "source": [
        "## Salary ~ CEO Tenure + Sales + Market Value"
      ]
    },
    {
      "cell_type": "code",
      "execution_count": 10,
      "metadata": {
        "id": "BU2E0sdy0wNR"
      },
      "outputs": [],
      "source": [
        "m3 = smf.ols('salary ~ ceoten + sales + mktval', CEOSAL)\n",
        "\n",
        "results_m3 = m3.fit()"
      ]
    },
    {
      "cell_type": "markdown",
      "metadata": {
        "id": "flQthE1o8etY"
      },
      "source": [
        "## CEO Tenure ~ Sales + Market Value"
      ]
    },
    {
      "cell_type": "code",
      "execution_count": 11,
      "metadata": {
        "id": "gnd-vCmr8hVq"
      },
      "outputs": [],
      "source": [
        "m4 = smf.ols('ceoten ~ sales + mktval', CEOSAL)\n",
        "\n",
        "results_m4 = m4.fit()"
      ]
    },
    {
      "cell_type": "code",
      "source": [
        "print(results_m4.summary())"
      ],
      "metadata": {
        "colab": {
          "base_uri": "https://localhost:8080/"
        },
        "id": "LdCGHOGMFGJB",
        "outputId": "6ca20452-4a83-485d-eaf6-13fd74df9525"
      },
      "execution_count": 12,
      "outputs": [
        {
          "output_type": "stream",
          "name": "stdout",
          "text": [
            "                            OLS Regression Results                            \n",
            "==============================================================================\n",
            "Dep. Variable:                 ceoten   R-squared:                       0.019\n",
            "Model:                            OLS   Adj. R-squared:                  0.004\n",
            "Method:                 Least Squares   F-statistic:                     1.264\n",
            "Date:                Fri, 16 Feb 2024   Prob (F-statistic):              0.286\n",
            "Time:                        13:22:11   Log-Likelihood:                -466.78\n",
            "No. Observations:                 137   AIC:                             939.6\n",
            "Df Residuals:                     134   BIC:                             948.3\n",
            "Df Model:                           2                                         \n",
            "Covariance Type:            nonrobust                                         \n",
            "==============================================================================\n",
            "                 coef    std err          t      P>|t|      [0.025      0.975]\n",
            "------------------------------------------------------------------------------\n",
            "Intercept      8.5872      0.750     11.444      0.000       7.103      10.071\n",
            "sales         -0.0002      0.000     -1.585      0.115      -0.001    5.75e-05\n",
            "mktval         0.0002      0.000      1.134      0.259      -0.000       0.000\n",
            "==============================================================================\n",
            "Omnibus:                       51.179   Durbin-Watson:                   1.958\n",
            "Prob(Omnibus):                  0.000   Jarque-Bera (JB):              111.675\n",
            "Skew:                           1.609   Prob(JB):                     5.62e-25\n",
            "Kurtosis:                       6.034   Cond. No.                     1.28e+04\n",
            "==============================================================================\n",
            "\n",
            "Notes:\n",
            "[1] Standard Errors assume that the covariance matrix of the errors is correctly specified.\n",
            "[2] The condition number is large, 1.28e+04. This might indicate that there are\n",
            "strong multicollinearity or other numerical problems.\n"
          ]
        }
      ]
    },
    {
      "cell_type": "markdown",
      "metadata": {
        "id": "mHNz5N6718Qc"
      },
      "source": [
        "## Residuals"
      ]
    },
    {
      "cell_type": "code",
      "execution_count": 13,
      "metadata": {
        "id": "bhEikQyx94il"
      },
      "outputs": [],
      "source": [
        "CEOSAL['residuals'] = results_m4.resid"
      ]
    },
    {
      "cell_type": "code",
      "execution_count": 14,
      "metadata": {
        "colab": {
          "base_uri": "https://localhost:8080/"
        },
        "id": "g5feEaFe_LqJ",
        "outputId": "6122dd19-cede-435f-cf6a-4d944842c224"
      },
      "outputs": [
        {
          "output_type": "execute_result",
          "data": {
            "text/plain": [
              "count    1.370000e+02\n",
              "mean    -8.816954e-16\n",
              "std      7.329537e+00\n",
              "min     -8.662236e+00\n",
              "25%     -5.317043e+00\n",
              "50%     -1.675540e+00\n",
              "75%      3.376666e+00\n",
              "max      2.848864e+01\n",
              "Name: residuals, dtype: float64"
            ]
          },
          "metadata": {},
          "execution_count": 14
        }
      ],
      "source": [
        "CEOSAL['residuals'].describe()"
      ]
    },
    {
      "cell_type": "markdown",
      "metadata": {
        "id": "xt7aWOsO18Qc"
      },
      "source": [
        "## Salary ~ Residuals"
      ]
    },
    {
      "cell_type": "code",
      "execution_count": 15,
      "metadata": {
        "id": "egDZegfw_URm"
      },
      "outputs": [],
      "source": [
        "m5 = smf.ols('salary ~ residuals', CEOSAL)\n",
        "\n",
        "results_m5 = m5.fit()"
      ]
    },
    {
      "cell_type": "code",
      "source": [
        "Stargazer([results_m3, results_m5])"
      ],
      "metadata": {
        "colab": {
          "base_uri": "https://localhost:8080/",
          "height": 459
        },
        "id": "_wTCwXbRFAG5",
        "outputId": "1da948f2-1ed8-412e-a54f-9616299e893b"
      },
      "execution_count": 16,
      "outputs": [
        {
          "output_type": "execute_result",
          "data": {
            "text/plain": [
              "<stargazer.stargazer.Stargazer at 0x7a582ac5f6a0>"
            ],
            "text/html": [
              "<table style=\"text-align:center\"><tr><td colspan=\"3\" style=\"border-bottom: 1px solid black\"></td></tr>\n",
              "<tr><td style=\"text-align:left\"></td><td colspan=\"2\"><em>Dependent variable: salary</em></td></tr><tr><td style=\"text-align:left\"></td><tr><td style=\"text-align:left\"></td><td>(1)</td><td>(2)</td></tr>\n",
              "<tr><td colspan=\"3\" style=\"border-bottom: 1px solid black\"></td></tr>\n",
              "\n",
              "<tr><td style=\"text-align:left\">Intercept</td><td>588.782<sup>***</sup></td><td>864.212<sup>***</sup></td></tr>\n",
              "<tr><td style=\"text-align:left\"></td><td>(53.450)</td><td>(40.024)</td></tr>\n",
              "<tr><td style=\"text-align:left\">ceoten</td><td>11.525<sup>***</sup></td><td></td></tr>\n",
              "<tr><td style=\"text-align:left\"></td><td>(4.376)</td><td></td></tr>\n",
              "<tr><td style=\"text-align:left\">mktval</td><td>0.029<sup>***</sup></td><td></td></tr>\n",
              "<tr><td style=\"text-align:left\"></td><td>(0.007)</td><td></td></tr>\n",
              "<tr><td style=\"text-align:left\">residuals</td><td></td><td>11.525<sup>**</sup></td></tr>\n",
              "<tr><td style=\"text-align:left\"></td><td></td><td>(5.481)</td></tr>\n",
              "<tr><td style=\"text-align:left\">sales</td><td>0.016<sup>**</sup></td><td></td></tr>\n",
              "<tr><td style=\"text-align:left\"></td><td>(0.007)</td><td></td></tr>\n",
              "\n",
              "<td colspan=\"3\" style=\"border-bottom: 1px solid black\"></td></tr>\n",
              "<tr><td style=\"text-align: left\">Observations</td><td>137</td><td>137</td></tr><tr><td style=\"text-align: left\">R<sup>2</sup></td><td>0.392</td><td>0.032</td></tr><tr><td style=\"text-align: left\">Adjusted R<sup>2</sup></td><td>0.378</td><td>0.025</td></tr><tr><td style=\"text-align: left\">Residual Std. Error</td><td>374.049 (df=133)</td><td>468.471 (df=135)</td></tr><tr><td style=\"text-align: left\">F Statistic</td><td>28.565<sup>***</sup> (df=3; 133)</td><td>4.422<sup>**</sup> (df=1; 135)</td></tr>\n",
              "<tr><td colspan=\"3\" style=\"border-bottom: 1px solid black\"></td></tr><tr><td style=\"text-align: left\">Note:</td><td colspan=\"2\" style=\"text-align: right\"><sup>*</sup>p&lt;0.1; <sup>**</sup>p&lt;0.05; <sup>***</sup>p&lt;0.01</td></tr></table>"
            ]
          },
          "metadata": {},
          "execution_count": 16
        }
      ]
    }
  ]
}