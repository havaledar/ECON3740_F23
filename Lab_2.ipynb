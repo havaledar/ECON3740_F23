{
  "nbformat": 4,
  "nbformat_minor": 0,
  "metadata": {
    "colab": {
      "provenance": [],
      "authorship_tag": "ABX9TyNdtH0CBo0c2Sb+yWtYKaHg",
      "include_colab_link": true
    },
    "kernelspec": {
      "name": "ir",
      "display_name": "R"
    },
    "language_info": {
      "name": "R"
    }
  },
  "cells": [
    {
      "cell_type": "markdown",
      "metadata": {
        "id": "view-in-github",
        "colab_type": "text"
      },
      "source": [
        "<a href=\"https://colab.research.google.com/github/havaledar/ECON3740/blob/main/Lab_2.ipynb\" target=\"_parent\"><img src=\"https://colab.research.google.com/assets/colab-badge.svg\" alt=\"Open In Colab\"/></a>"
      ]
    },
    {
      "cell_type": "markdown",
      "source": [
        "# Introduction to R and R Studio"
      ],
      "metadata": {
        "id": "h6E1-S0OmjiV"
      }
    },
    {
      "cell_type": "markdown",
      "source": [
        "## Packages\n",
        "\n",
        "You may need to first install the library packages"
      ],
      "metadata": {
        "id": "TjOBV-FWR_Rd"
      }
    },
    {
      "cell_type": "code",
      "source": [
        "# install.packages(\"stargazer\")"
      ],
      "metadata": {
        "colab": {
          "base_uri": "https://localhost:8080/"
        },
        "id": "JfX3Aku6dAzc",
        "outputId": "22abf0da-1f54-402a-b874-df8d128017e7"
      },
      "execution_count": 4,
      "outputs": [
        {
          "output_type": "stream",
          "name": "stderr",
          "text": [
            "Installing package into ‘/usr/local/lib/R/site-library’\n",
            "(as ‘lib’ is unspecified)\n",
            "\n"
          ]
        }
      ]
    },
    {
      "cell_type": "markdown",
      "source": [
        "Libraries need to be declared every time you restart R"
      ],
      "metadata": {
        "id": "EzpNFM5-SzDW"
      }
    },
    {
      "cell_type": "code",
      "execution_count": 1,
      "metadata": {
        "colab": {
          "base_uri": "https://localhost:8080/"
        },
        "id": "PTYc6c9RYG_C",
        "outputId": "9219fd45-c418-4c89-eca1-68c01fb2e782"
      },
      "outputs": [
        {
          "output_type": "stream",
          "name": "stderr",
          "text": [
            "── \u001b[1mAttaching core tidyverse packages\u001b[22m ──────────────────────── tidyverse 2.0.0 ──\n",
            "\u001b[32m✔\u001b[39m \u001b[34mdplyr    \u001b[39m 1.1.2     \u001b[32m✔\u001b[39m \u001b[34mreadr    \u001b[39m 2.1.4\n",
            "\u001b[32m✔\u001b[39m \u001b[34mforcats  \u001b[39m 1.0.0     \u001b[32m✔\u001b[39m \u001b[34mstringr  \u001b[39m 1.5.0\n",
            "\u001b[32m✔\u001b[39m \u001b[34mggplot2  \u001b[39m 3.4.3     \u001b[32m✔\u001b[39m \u001b[34mtibble   \u001b[39m 3.2.1\n",
            "\u001b[32m✔\u001b[39m \u001b[34mlubridate\u001b[39m 1.9.2     \u001b[32m✔\u001b[39m \u001b[34mtidyr    \u001b[39m 1.3.0\n",
            "\u001b[32m✔\u001b[39m \u001b[34mpurrr    \u001b[39m 1.0.2     \n",
            "── \u001b[1mConflicts\u001b[22m ────────────────────────────────────────── tidyverse_conflicts() ──\n",
            "\u001b[31m✖\u001b[39m \u001b[34mdplyr\u001b[39m::\u001b[32mfilter()\u001b[39m masks \u001b[34mstats\u001b[39m::filter()\n",
            "\u001b[31m✖\u001b[39m \u001b[34mdplyr\u001b[39m::\u001b[32mlag()\u001b[39m    masks \u001b[34mstats\u001b[39m::lag()\n",
            "\u001b[36mℹ\u001b[39m Use the conflicted package (\u001b[3m\u001b[34m<http://conflicted.r-lib.org/>\u001b[39m\u001b[23m) to force all conflicts to become errors\n"
          ]
        }
      ],
      "source": [
        "library(tidyverse)\n",
        "library(haven)\n",
        "# library(stargazer)"
      ]
    },
    {
      "cell_type": "markdown",
      "source": [
        "# Reading Data\n",
        "\n",
        "Download LFS from Odesi Nesstar first;\n",
        "read-in Stata datafile straight out of the archived .zip folder"
      ],
      "metadata": {
        "id": "jtIGjLd8m2Tq"
      }
    },
    {
      "cell_type": "markdown",
      "source": [
        "## Local"
      ],
      "metadata": {
        "id": "lJFyDMz8ex8M"
      }
    },
    {
      "cell_type": "code",
      "source": [
        "LFS_71M0001_E_2023_May <- read_stata(\"LFS-71M0001-E-2023-May.zip\")"
      ],
      "metadata": {
        "id": "kShtSniYcUX2"
      },
      "execution_count": null,
      "outputs": []
    },
    {
      "cell_type": "code",
      "source": [
        "View(LFS_71M0001_E_2023_May)"
      ],
      "metadata": {
        "id": "uZJwe10CfG6J"
      },
      "execution_count": null,
      "outputs": []
    },
    {
      "cell_type": "markdown",
      "source": [
        "## web"
      ],
      "metadata": {
        "id": "c1npVyGLe0PP"
      }
    },
    {
      "cell_type": "code",
      "source": [
        "url <- \"https://raw.githubusercontent.com/havaledar/ECON3740/main/LFS-71M0001-E-2023-May.zip\"\n",
        "\n",
        "# Download the ZIP file\n",
        "download.file(url, destfile = '/content/LFS-71M0001-E-2023-May.zip', method = \"auto\")\n",
        "\n",
        "LFS_71M0001_E_2023_May <- read_stata(\"LFS-71M0001-E-2023-May.zip\")"
      ],
      "metadata": {
        "id": "M9vjHnB2febB"
      },
      "execution_count": null,
      "outputs": []
    },
    {
      "cell_type": "code",
      "source": [
        "View(LFS_71M0001_E_2023_May)"
      ],
      "metadata": {
        "id": "AWEsxU33j9Mv"
      },
      "execution_count": null,
      "outputs": []
    },
    {
      "cell_type": "markdown",
      "source": [
        "# Manipulating Data\n"
      ],
      "metadata": {
        "id": "AZLIe8zrpuX3"
      }
    },
    {
      "cell_type": "markdown",
      "source": [
        "## Pipe"
      ],
      "metadata": {
        "id": "g7cW-a_RqBK5"
      }
    },
    {
      "cell_type": "code",
      "source": [
        "pi %>% sin %>% cos\n",
        "\n",
        "pi %>%\n",
        "  sin %>%\n",
        "    cos\n",
        "\n",
        "cos(sin(pi))"
      ],
      "metadata": {
        "colab": {
          "base_uri": "https://localhost:8080/",
          "height": 69
        },
        "id": "6FrXiCSLpvl-",
        "outputId": "9bbb81a3-b90b-42da-e064-61c28a53c969"
      },
      "execution_count": 8,
      "outputs": [
        {
          "output_type": "display_data",
          "data": {
            "text/html": [
              "1"
            ],
            "text/markdown": "1",
            "text/latex": "1",
            "text/plain": [
              "[1] 1"
            ]
          },
          "metadata": {}
        },
        {
          "output_type": "display_data",
          "data": {
            "text/html": [
              "1"
            ],
            "text/markdown": "1",
            "text/latex": "1",
            "text/plain": [
              "[1] 1"
            ]
          },
          "metadata": {}
        },
        {
          "output_type": "display_data",
          "data": {
            "text/html": [
              "1"
            ],
            "text/markdown": "1",
            "text/latex": "1",
            "text/plain": [
              "[1] 1"
            ]
          },
          "metadata": {}
        }
      ]
    },
    {
      "cell_type": "markdown",
      "source": [
        "## Copy"
      ],
      "metadata": {
        "id": "xtZMRUX6qiWz"
      }
    },
    {
      "cell_type": "code",
      "source": [
        "mydata <- LFS_71M0001_E_2023_May"
      ],
      "metadata": {
        "id": "CMOeneNVkJZk"
      },
      "execution_count": 9,
      "outputs": []
    },
    {
      "cell_type": "markdown",
      "source": [
        "## Summary"
      ],
      "metadata": {
        "id": "CNHH218NqqVM"
      }
    },
    {
      "cell_type": "code",
      "source": [
        "# Comment\n",
        "\n",
        "# dim(mydata)\n",
        "colnames(mydata)\n",
        "# glimpse(mydata)\n",
        "# head(mydata)\n",
        "# view(mydata)\n",
        "# summary(mydata)"
      ],
      "metadata": {
        "colab": {
          "base_uri": "https://localhost:8080/",
          "height": 86
        },
        "id": "bNlfKcOZkRAy",
        "outputId": "c2563d32-f7e9-4055-82e7-bfa422582df9"
      },
      "execution_count": 23,
      "outputs": [
        {
          "output_type": "display_data",
          "data": {
            "text/html": [
              "<style>\n",
              ".list-inline {list-style: none; margin:0; padding: 0}\n",
              ".list-inline>li {display: inline-block}\n",
              ".list-inline>li:not(:last-child)::after {content: \"\\00b7\"; padding: 0 .5ex}\n",
              "</style>\n",
              "<ol class=list-inline><li>'REC_NUM'</li><li>'SURVYEAR'</li><li>'SURVMNTH'</li><li>'LFSSTAT'</li><li>'PROV'</li><li>'CMA'</li><li>'AGE_12'</li><li>'AGE_6'</li><li>'SEX'</li><li>'MARSTAT'</li><li>'EDUC'</li><li>'MJH'</li><li>'EVERWORK'</li><li>'FTPTLAST'</li><li>'COWMAIN'</li><li>'IMMIG'</li><li>'NAICS_21'</li><li>'NOC_10'</li><li>'NOC_43'</li><li>'YABSENT'</li><li>'WKSAWAY'</li><li>'PAYAWAY'</li><li>'UHRSMAIN'</li><li>'AHRSMAIN'</li><li>'FTPTMAIN'</li><li>'UTOTHRS'</li><li>'ATOTHRS'</li><li>'HRSAWAY'</li><li>'YAWAY'</li><li>'PAIDOT'</li><li>'UNPAIDOT'</li><li>'XTRAHRS'</li><li>'WHYPT'</li><li>'TENURE'</li><li>'PREVTEN'</li><li>'HRLYEARN'</li><li>'UNION'</li><li>'PERMTEMP'</li><li>'ESTSIZE'</li><li>'FIRMSIZE'</li><li>'DURUNEMP'</li><li>'FLOWUNEM'</li><li>'UNEMFTPT'</li><li>'WHYLEFTO'</li><li>'WHYLEFTN'</li><li>'DURJLESS'</li><li>'AVAILABL'</li><li>'LKPUBAG'</li><li>'LKEMPLOY'</li><li>'LKRELS'</li><li>'LKATADS'</li><li>'LKANSADS'</li><li>'LKOTHERN'</li><li>'PRIORACT'</li><li>'YNOLOOK'</li><li>'TLOLOOK'</li><li>'SCHOOLN'</li><li>'EFAMTYPE'</li><li>'AGYOWNK'</li><li>'FINALWT'</li></ol>\n"
            ],
            "text/markdown": "1. 'REC_NUM'\n2. 'SURVYEAR'\n3. 'SURVMNTH'\n4. 'LFSSTAT'\n5. 'PROV'\n6. 'CMA'\n7. 'AGE_12'\n8. 'AGE_6'\n9. 'SEX'\n10. 'MARSTAT'\n11. 'EDUC'\n12. 'MJH'\n13. 'EVERWORK'\n14. 'FTPTLAST'\n15. 'COWMAIN'\n16. 'IMMIG'\n17. 'NAICS_21'\n18. 'NOC_10'\n19. 'NOC_43'\n20. 'YABSENT'\n21. 'WKSAWAY'\n22. 'PAYAWAY'\n23. 'UHRSMAIN'\n24. 'AHRSMAIN'\n25. 'FTPTMAIN'\n26. 'UTOTHRS'\n27. 'ATOTHRS'\n28. 'HRSAWAY'\n29. 'YAWAY'\n30. 'PAIDOT'\n31. 'UNPAIDOT'\n32. 'XTRAHRS'\n33. 'WHYPT'\n34. 'TENURE'\n35. 'PREVTEN'\n36. 'HRLYEARN'\n37. 'UNION'\n38. 'PERMTEMP'\n39. 'ESTSIZE'\n40. 'FIRMSIZE'\n41. 'DURUNEMP'\n42. 'FLOWUNEM'\n43. 'UNEMFTPT'\n44. 'WHYLEFTO'\n45. 'WHYLEFTN'\n46. 'DURJLESS'\n47. 'AVAILABL'\n48. 'LKPUBAG'\n49. 'LKEMPLOY'\n50. 'LKRELS'\n51. 'LKATADS'\n52. 'LKANSADS'\n53. 'LKOTHERN'\n54. 'PRIORACT'\n55. 'YNOLOOK'\n56. 'TLOLOOK'\n57. 'SCHOOLN'\n58. 'EFAMTYPE'\n59. 'AGYOWNK'\n60. 'FINALWT'\n\n\n",
            "text/latex": "\\begin{enumerate*}\n\\item 'REC\\_NUM'\n\\item 'SURVYEAR'\n\\item 'SURVMNTH'\n\\item 'LFSSTAT'\n\\item 'PROV'\n\\item 'CMA'\n\\item 'AGE\\_12'\n\\item 'AGE\\_6'\n\\item 'SEX'\n\\item 'MARSTAT'\n\\item 'EDUC'\n\\item 'MJH'\n\\item 'EVERWORK'\n\\item 'FTPTLAST'\n\\item 'COWMAIN'\n\\item 'IMMIG'\n\\item 'NAICS\\_21'\n\\item 'NOC\\_10'\n\\item 'NOC\\_43'\n\\item 'YABSENT'\n\\item 'WKSAWAY'\n\\item 'PAYAWAY'\n\\item 'UHRSMAIN'\n\\item 'AHRSMAIN'\n\\item 'FTPTMAIN'\n\\item 'UTOTHRS'\n\\item 'ATOTHRS'\n\\item 'HRSAWAY'\n\\item 'YAWAY'\n\\item 'PAIDOT'\n\\item 'UNPAIDOT'\n\\item 'XTRAHRS'\n\\item 'WHYPT'\n\\item 'TENURE'\n\\item 'PREVTEN'\n\\item 'HRLYEARN'\n\\item 'UNION'\n\\item 'PERMTEMP'\n\\item 'ESTSIZE'\n\\item 'FIRMSIZE'\n\\item 'DURUNEMP'\n\\item 'FLOWUNEM'\n\\item 'UNEMFTPT'\n\\item 'WHYLEFTO'\n\\item 'WHYLEFTN'\n\\item 'DURJLESS'\n\\item 'AVAILABL'\n\\item 'LKPUBAG'\n\\item 'LKEMPLOY'\n\\item 'LKRELS'\n\\item 'LKATADS'\n\\item 'LKANSADS'\n\\item 'LKOTHERN'\n\\item 'PRIORACT'\n\\item 'YNOLOOK'\n\\item 'TLOLOOK'\n\\item 'SCHOOLN'\n\\item 'EFAMTYPE'\n\\item 'AGYOWNK'\n\\item 'FINALWT'\n\\end{enumerate*}\n",
            "text/plain": [
              " [1] \"REC_NUM\"  \"SURVYEAR\" \"SURVMNTH\" \"LFSSTAT\"  \"PROV\"     \"CMA\"     \n",
              " [7] \"AGE_12\"   \"AGE_6\"    \"SEX\"      \"MARSTAT\"  \"EDUC\"     \"MJH\"     \n",
              "[13] \"EVERWORK\" \"FTPTLAST\" \"COWMAIN\"  \"IMMIG\"    \"NAICS_21\" \"NOC_10\"  \n",
              "[19] \"NOC_43\"   \"YABSENT\"  \"WKSAWAY\"  \"PAYAWAY\"  \"UHRSMAIN\" \"AHRSMAIN\"\n",
              "[25] \"FTPTMAIN\" \"UTOTHRS\"  \"ATOTHRS\"  \"HRSAWAY\"  \"YAWAY\"    \"PAIDOT\"  \n",
              "[31] \"UNPAIDOT\" \"XTRAHRS\"  \"WHYPT\"    \"TENURE\"   \"PREVTEN\"  \"HRLYEARN\"\n",
              "[37] \"UNION\"    \"PERMTEMP\" \"ESTSIZE\"  \"FIRMSIZE\" \"DURUNEMP\" \"FLOWUNEM\"\n",
              "[43] \"UNEMFTPT\" \"WHYLEFTO\" \"WHYLEFTN\" \"DURJLESS\" \"AVAILABL\" \"LKPUBAG\" \n",
              "[49] \"LKEMPLOY\" \"LKRELS\"   \"LKATADS\"  \"LKANSADS\" \"LKOTHERN\" \"PRIORACT\"\n",
              "[55] \"YNOLOOK\"  \"TLOLOOK\"  \"SCHOOLN\"  \"EFAMTYPE\" \"AGYOWNK\"  \"FINALWT\" "
            ]
          },
          "metadata": {}
        }
      ]
    },
    {
      "cell_type": "code",
      "source": [
        "#Tabulate the Labour Force Status\n",
        "\n",
        "# head(d$LFSSTAT)\n",
        "table(d$LFSSTAT)"
      ],
      "metadata": {
        "colab": {
          "base_uri": "https://localhost:8080/",
          "height": 69
        },
        "id": "ipirZp0eYH5R",
        "outputId": "ec4b55e5-a157-498c-bb72-7da8c3547b35"
      },
      "execution_count": 33,
      "outputs": [
        {
          "output_type": "display_data",
          "data": {
            "text/plain": [
              "\n",
              "    1     2     3     4 \n",
              "44260  3835  1958 10525 "
            ]
          },
          "metadata": {}
        }
      ]
    },
    {
      "cell_type": "code",
      "source": [
        "#Tabulate the labour force participation rate\n",
        "\n",
        "table(d$partic)"
      ],
      "metadata": {
        "colab": {
          "base_uri": "https://localhost:8080/",
          "height": 69
        },
        "id": "6t9ntSJoYsKs",
        "outputId": "814e63ea-1c1c-43a4-a213-14ddaa5ac9c5"
      },
      "execution_count": 34,
      "outputs": [
        {
          "output_type": "display_data",
          "data": {
            "text/plain": [
              "\n",
              "    0     1 \n",
              "10525 50053 "
            ]
          },
          "metadata": {}
        }
      ]
    },
    {
      "cell_type": "code",
      "source": [
        "# Participation rates by gender, and by gender and year:\n",
        "\n",
        "# head(d$SEX)\n",
        "\n",
        "table(d$partic, d$SEX)"
      ],
      "metadata": {
        "colab": {
          "base_uri": "https://localhost:8080/",
          "height": 208
        },
        "id": "oaAUPTG5YznT",
        "outputId": "118ead9e-f0a4-4320-c143-382e8ed8f7de"
      },
      "execution_count": 36,
      "outputs": [
        {
          "output_type": "display_data",
          "data": {
            "text/plain": [
              "   \n",
              "        1     2\n",
              "  0  3929  6596\n",
              "  1 25601 24452"
            ]
          },
          "metadata": {}
        },
        {
          "output_type": "display_data",
          "data": {
            "text/plain": [
              "<labelled<double>[6]>: Sex of respondent\n",
              "[1] 2 1 2 2 1 1\n",
              "\n",
              "Labels:\n",
              " value  label\n",
              "     1   Male\n",
              "     2 Female"
            ]
          },
          "metadata": {}
        }
      ]
    },
    {
      "cell_type": "code",
      "source": [
        "#row percentages\n",
        "\n",
        "prop.table(table(d$partic, d$SEX),1)"
      ],
      "metadata": {
        "colab": {
          "base_uri": "https://localhost:8080/",
          "height": 86
        },
        "id": "G4dNhz3EZDk1",
        "outputId": "40667149-f570-4cbe-8703-b49596239483"
      },
      "execution_count": 37,
      "outputs": [
        {
          "output_type": "display_data",
          "data": {
            "text/plain": [
              "   \n",
              "            1         2\n",
              "  0 0.3733017 0.6266983\n",
              "  1 0.5114778 0.4885222"
            ]
          },
          "metadata": {}
        }
      ]
    },
    {
      "cell_type": "code",
      "source": [
        "#column percentages\n",
        "\n",
        "prop.table(table(d$partic, d$SEX),2)"
      ],
      "metadata": {
        "colab": {
          "base_uri": "https://localhost:8080/",
          "height": 86
        },
        "id": "OumNoTQjZMAK",
        "outputId": "a054206c-9db6-4ce6-f83b-3d8cd6a1a23a"
      },
      "execution_count": 38,
      "outputs": [
        {
          "output_type": "display_data",
          "data": {
            "text/plain": [
              "   \n",
              "            1         2\n",
              "  0 0.1330511 0.2124452\n",
              "  1 0.8669489 0.7875548"
            ]
          },
          "metadata": {}
        }
      ]
    },
    {
      "cell_type": "markdown",
      "source": [
        "# filter\n",
        "\n",
        "Keep only prime age (25 to 64)"
      ],
      "metadata": {
        "id": "ygVGnlJ4Qik3"
      }
    },
    {
      "cell_type": "code",
      "source": [
        "# Investigate value labels\n",
        "\n",
        "head(mydata$AGE_12)"
      ],
      "metadata": {
        "id": "VYj2Yonlkdi4"
      },
      "execution_count": null,
      "outputs": []
    },
    {
      "cell_type": "code",
      "source": [
        "mydata %>%\n",
        "  filter(AGE_12 >= 3)"
      ],
      "metadata": {
        "id": "F8zI-Rn2UHE1"
      },
      "execution_count": null,
      "outputs": []
    },
    {
      "cell_type": "code",
      "source": [
        "# d <- mydata %>%\n",
        "#   filter(AGE_12 >= 3 & AGE_12 <= 10)\n",
        "\n",
        "# d <- filter(mydata, AGE_12 >= 3 & AGE_12 <= 10)"
      ],
      "metadata": {
        "id": "SxZn-PK8lCl8"
      },
      "execution_count": 12,
      "outputs": []
    },
    {
      "cell_type": "markdown",
      "source": [
        "Filter by gender"
      ],
      "metadata": {
        "id": "K_fU5e4QXXQk"
      }
    },
    {
      "cell_type": "code",
      "source": [
        "head(d$SEX)"
      ],
      "metadata": {
        "id": "oEzKkLkIXdXg"
      },
      "execution_count": null,
      "outputs": []
    },
    {
      "cell_type": "code",
      "source": [
        "dM <- d %>% filter(SEX==1)\n",
        "# dF <- d %>% filter(SEX==2)\n"
      ],
      "metadata": {
        "id": "kdRmTEj0XUsH"
      },
      "execution_count": null,
      "outputs": []
    },
    {
      "cell_type": "markdown",
      "source": [
        "## select\n",
        "\n",
        "Keep only certain variables"
      ],
      "metadata": {
        "id": "HKQHhPwQQrnI"
      }
    },
    {
      "cell_type": "code",
      "source": [
        "# not really needed, unless you have memory issues\n",
        "\n",
        "d1 <- d %>%\n",
        "  select(AGE_12, SEX, LFSSTAT, EDUC, MARSTAT, PROV, CMA, MJH)\n",
        "\n"
      ],
      "metadata": {
        "id": "YegBVQryOXTC"
      },
      "execution_count": 17,
      "outputs": []
    },
    {
      "cell_type": "code",
      "source": [
        "d1 <- d1 %>%\n",
        "  select(-CMA)"
      ],
      "metadata": {
        "id": "ks0yyNNBQ53k"
      },
      "execution_count": null,
      "outputs": []
    },
    {
      "cell_type": "markdown",
      "source": [
        "# Mutate"
      ],
      "metadata": {
        "id": "qnMd-Q_JUcjQ"
      }
    },
    {
      "cell_type": "code",
      "source": [
        "mydata <- mydata %>%\n",
        "  mutate(NOC_10_5 = NOC_10*5)"
      ],
      "metadata": {
        "id": "pyvksrV1UcNC"
      },
      "execution_count": 26,
      "outputs": []
    },
    {
      "cell_type": "code",
      "source": [
        "mydata$NOC_10_5"
      ],
      "metadata": {
        "id": "FhJv9v8KVzFN"
      },
      "execution_count": null,
      "outputs": []
    },
    {
      "cell_type": "markdown",
      "source": [
        "## if and case\n",
        "\n",
        "Generate the participation indicator from the labour force status variable LFSSTAT:"
      ],
      "metadata": {
        "id": "PeuhKERdRS1Q"
      }
    },
    {
      "cell_type": "code",
      "source": [
        "head(d$LFSSTAT)"
      ],
      "metadata": {
        "colab": {
          "base_uri": "https://localhost:8080/",
          "height": 173
        },
        "id": "w1bHmSMuURmO",
        "outputId": "19974855-59d9-443b-9e5d-197481668595"
      },
      "execution_count": 28,
      "outputs": [
        {
          "output_type": "display_data",
          "data": {
            "text/plain": [
              "<labelled<double>[6]>: Labour force status\n",
              "[1] 4 1 1 1 1 1\n",
              "\n",
              "Labels:\n",
              " value                      label\n",
              "     1          Employed, at work\n",
              "     2 Employed, absent from work\n",
              "     3                 Unemployed\n",
              "     4        Not in labour force"
            ]
          },
          "metadata": {}
        }
      ]
    },
    {
      "cell_type": "code",
      "source": [
        "# if_else\n",
        "\n",
        "d <- d %>%\n",
        "  mutate(partic = if_else(LFSSTAT <= 3, 1, 0))\n",
        "\n",
        "# d <- d %>%\n",
        "#   mutate(unemprt = case_when(LFSSTAT == 3 ~ 1,\n",
        "#                              LFSSTAT == 4 ~ NA_real_,\n",
        "#                              TRUE         ~ 0))\n"
      ],
      "metadata": {
        "id": "SLi3ew7_UPoL"
      },
      "execution_count": null,
      "outputs": []
    }
  ]
}